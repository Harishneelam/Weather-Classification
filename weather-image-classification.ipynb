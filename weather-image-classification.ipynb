{
 "cells": [
  {
   "cell_type": "code",
   "execution_count": 1,
   "id": "4250cc98",
   "metadata": {
    "_cell_guid": "b1076dfc-b9ad-4769-8c92-a6c4dae69d19",
    "_uuid": "8f2839f25d086af736a60e9eeb907d3b93b6e0e5",
    "execution": {
     "iopub.execute_input": "2023-04-20T02:49:34.491881Z",
     "iopub.status.busy": "2023-04-20T02:49:34.491154Z",
     "iopub.status.idle": "2023-04-20T02:49:42.198944Z",
     "shell.execute_reply": "2023-04-20T02:49:42.197847Z"
    },
    "papermill": {
     "duration": 7.741088,
     "end_time": "2023-04-20T02:49:42.201690",
     "exception": false,
     "start_time": "2023-04-20T02:49:34.460602",
     "status": "completed"
    },
    "tags": []
   },
   "outputs": [],
   "source": [
    "from numpy.random import seed\n",
    "import matplotlib.pyplot as plt\n",
    "import numpy as np\n",
    "import pandas as pd\n",
    "import os\n",
    "from glob import glob\n",
    "import seaborn as sns\n",
    "from PIL import Image\n",
    "from sklearn.preprocessing import label_binarize\n",
    "from sklearn.metrics import confusion_matrix\n",
    "from sklearn.model_selection import GridSearchCV\n",
    "from sklearn.model_selection import train_test_split\n",
    "from sklearn.metrics import f1_score\n",
    "import itertools\n",
    "import tensorflow\n",
    "import tensorflow.keras\n",
    "from tensorflow.keras.applications import ResNet152, Xception,VGG16,EfficientNetB4\n",
    "from tensorflow.keras.models import Sequential, Model\n",
    "from tensorflow.keras.layers import Activation,Dense, Dropout, Flatten, Conv2D, MaxPool2D,AveragePooling2D,GlobalMaxPooling2D\n",
    "from tensorflow.keras import backend as K\n",
    "from tensorflow.keras.wrappers.scikit_learn import KerasClassifier\n",
    "from tensorflow.keras import regularizers\n",
    "from tensorflow.keras.optimizers import Adam, SGD\n",
    "from tensorflow.keras.preprocessing.image import ImageDataGenerator\n",
    "from tensorflow.keras.callbacks import ReduceLROnPlateau, EarlyStopping\n",
    "from scipy.ndimage.filters import sobel\n",
    "from keras.layers import BatchNormalization\n",
    "from sklearn.utils import shuffle\n",
    "from sklearn.metrics import classification_report\n",
    "np.random.seed(123)"
   ]
  },
  {
   "cell_type": "code",
   "execution_count": 2,
   "id": "1bcf5ff8",
   "metadata": {
    "execution": {
     "iopub.execute_input": "2023-04-20T02:49:42.229793Z",
     "iopub.status.busy": "2023-04-20T02:49:42.228725Z",
     "iopub.status.idle": "2023-04-20T02:49:43.637081Z",
     "shell.execute_reply": "2023-04-20T02:49:43.635997Z"
    },
    "papermill": {
     "duration": 1.424682,
     "end_time": "2023-04-20T02:49:43.639670",
     "exception": false,
     "start_time": "2023-04-20T02:49:42.214988",
     "status": "completed"
    },
    "tags": []
   },
   "outputs": [],
   "source": [
    "dataset = '../input/weather-dataset/dataset/'\n",
    "labels = sorted(os.listdir(dataset))\n",
    "image = []\n",
    "label = []\n",
    "for i in labels:\n",
    "    st = dataset + i\n",
    "    for j in os.listdir(st):\n",
    "        stg = st +\"/\"+ j\n",
    "        label.append(i)\n",
    "        image.append(stg)\n",
    "        \n",
    "WeatherData = pd.DataFrame({'label':label, 'path' : image}, columns = ['label', 'path'])"
   ]
  },
  {
   "cell_type": "code",
   "execution_count": 3,
   "id": "ac2c5af9",
   "metadata": {
    "execution": {
     "iopub.execute_input": "2023-04-20T02:49:43.668230Z",
     "iopub.status.busy": "2023-04-20T02:49:43.667555Z",
     "iopub.status.idle": "2023-04-20T02:49:43.683719Z",
     "shell.execute_reply": "2023-04-20T02:49:43.682795Z"
    },
    "papermill": {
     "duration": 0.03338,
     "end_time": "2023-04-20T02:49:43.686087",
     "exception": false,
     "start_time": "2023-04-20T02:49:43.652707",
     "status": "completed"
    },
    "tags": []
   },
   "outputs": [],
   "source": [
    "new_labels = {\n",
    "    'Rainy': ['rain', 'hail', 'lightning','rainbow'],\n",
    "    'Dusty': ['sandstorm', 'fogsmog'],\n",
    "    'Cold': ['dew', 'glaze', 'rime', 'snow', 'frost']\n",
    "}\n",
    "\n",
    "Target = []\n",
    "for l in label:\n",
    "    if l in new_labels['Rainy']:\n",
    "        Target.append('Rainy')\n",
    "    elif l in new_labels['Dusty']:\n",
    "        Target.append('Dusty')\n",
    "    elif l in new_labels['Cold']:\n",
    "        Target.append('Cold')\n",
    "        \n",
    "WeatherData['Target'] = Target"
   ]
  },
  {
   "cell_type": "code",
   "execution_count": 4,
   "id": "a34af57b",
   "metadata": {
    "execution": {
     "iopub.execute_input": "2023-04-20T02:49:43.713159Z",
     "iopub.status.busy": "2023-04-20T02:49:43.712330Z",
     "iopub.status.idle": "2023-04-20T02:51:05.278687Z",
     "shell.execute_reply": "2023-04-20T02:51:05.277595Z"
    },
    "papermill": {
     "duration": 81.582819,
     "end_time": "2023-04-20T02:51:05.281618",
     "exception": false,
     "start_time": "2023-04-20T02:49:43.698799",
     "status": "completed"
    },
    "tags": []
   },
   "outputs": [],
   "source": [
    "WeatherData['image'] = WeatherData['path'].map(lambda x: np.asarray(Image.open(x).resize((100,100), Image.LANCZOS).convert('RGB')))"
   ]
  },
  {
   "cell_type": "code",
   "execution_count": 5,
   "id": "2db3a7b2",
   "metadata": {
    "execution": {
     "iopub.execute_input": "2023-04-20T02:51:05.308921Z",
     "iopub.status.busy": "2023-04-20T02:51:05.308558Z",
     "iopub.status.idle": "2023-04-20T02:51:05.318302Z",
     "shell.execute_reply": "2023-04-20T02:51:05.317410Z"
    },
    "papermill": {
     "duration": 0.02571,
     "end_time": "2023-04-20T02:51:05.320474",
     "exception": false,
     "start_time": "2023-04-20T02:51:05.294764",
     "status": "completed"
    },
    "tags": []
   },
   "outputs": [],
   "source": [
    "WeatherData = WeatherData.sample(frac=1, random_state=42)"
   ]
  },
  {
   "cell_type": "code",
   "execution_count": 6,
   "id": "25c991da",
   "metadata": {
    "execution": {
     "iopub.execute_input": "2023-04-20T02:51:05.346848Z",
     "iopub.status.busy": "2023-04-20T02:51:05.346557Z",
     "iopub.status.idle": "2023-04-20T02:51:05.353731Z",
     "shell.execute_reply": "2023-04-20T02:51:05.352848Z"
    },
    "papermill": {
     "duration": 0.022779,
     "end_time": "2023-04-20T02:51:05.355890",
     "exception": false,
     "start_time": "2023-04-20T02:51:05.333111",
     "status": "completed"
    },
    "tags": []
   },
   "outputs": [],
   "source": [
    "def Accuracies(model, x_train, x_validate, x_test, y_train, y_validate ,y_test):\n",
    "    loss, accuracy = model.evaluate(x_test, y_test, verbose=0)\n",
    "    loss_v, accuracy_v = model.evaluate(x_validate, y_validate, verbose=0)\n",
    "    loss_t, accuracy_t = model.evaluate(x_train, y_train, verbose=0)\n",
    "    print(\"Training: accuracy = %f\" % (accuracy_t))\n",
    "    print(\"Validation: accuracy = %f\" % (accuracy_v))\n",
    "    print(\"Test: accuracy = %f\" % (accuracy))"
   ]
  },
  {
   "cell_type": "code",
   "execution_count": 7,
   "id": "2fc2e767",
   "metadata": {
    "execution": {
     "iopub.execute_input": "2023-04-20T02:51:05.383032Z",
     "iopub.status.busy": "2023-04-20T02:51:05.382263Z",
     "iopub.status.idle": "2023-04-20T02:51:05.389782Z",
     "shell.execute_reply": "2023-04-20T02:51:05.388863Z"
    },
    "papermill": {
     "duration": 0.023255,
     "end_time": "2023-04-20T02:51:05.392056",
     "exception": false,
     "start_time": "2023-04-20T02:51:05.368801",
     "status": "completed"
    },
    "tags": []
   },
   "outputs": [],
   "source": [
    "def ConfusionMatrix(model, x_test,y_test,label_encoder):\n",
    "    predictions = np.array(list(map(lambda x: np.argmax(x), model.predict(x_test))))\n",
    "    categories = label_encoder.classes_\n",
    "    CM = confusion_matrix(np.argmax(y_test, axis=1), predictions)\n",
    "    CMatrix = pd.DataFrame(CM, columns = categories, index = categories)\n",
    "    plt.figure(figsize=(12, 6)) \n",
    "    ax = sns.heatmap(CMatrix, annot = True, fmt = 'g',vmax = min(np.diagonal(CM)),cmap = 'ocean_r') \n",
    "    ax.set_xlabel('Predicted',fontsize = 14,weight = 'bold') \n",
    "    ax.set_xticklabels(ax.get_xticklabels(),rotation =90); \n",
    "    ax.set_ylabel('Actual',fontsize = 14,weight = 'bold')\n",
    "    ax.set_title('Confusion Matrix - Test Set',fontsize = 16,weight = 'bold',pad=20);\n",
    "    plt.show()"
   ]
  },
  {
   "cell_type": "code",
   "execution_count": 8,
   "id": "e74475e0",
   "metadata": {
    "execution": {
     "iopub.execute_input": "2023-04-20T02:51:05.418428Z",
     "iopub.status.busy": "2023-04-20T02:51:05.418167Z",
     "iopub.status.idle": "2023-04-20T02:51:05.422865Z",
     "shell.execute_reply": "2023-04-20T02:51:05.421899Z"
    },
    "papermill": {
     "duration": 0.02025,
     "end_time": "2023-04-20T02:51:05.424975",
     "exception": false,
     "start_time": "2023-04-20T02:51:05.404725",
     "status": "completed"
    },
    "tags": []
   },
   "outputs": [],
   "source": [
    "def ClassificationReport(model, x_test,y_test):\n",
    "    y_pred = model.predict(x_test)\n",
    "    y_test_cat = np.argmax(y_test, axis=1)\n",
    "    y_pred_cat = np.argmax(y_pred, axis=1)\n",
    "\n",
    "    print(classification_report(y_test_cat, y_pred_cat))"
   ]
  },
  {
   "cell_type": "markdown",
   "id": "8b663886",
   "metadata": {
    "papermill": {
     "duration": 0.012432,
     "end_time": "2023-04-20T02:51:05.449931",
     "exception": false,
     "start_time": "2023-04-20T02:51:05.437499",
     "status": "completed"
    },
    "tags": []
   },
   "source": [
    "# Weather Condition Model: Cold, Dusty or Rainy"
   ]
  },
  {
   "cell_type": "code",
   "execution_count": 9,
   "id": "110a34a7",
   "metadata": {
    "execution": {
     "iopub.execute_input": "2023-04-20T02:51:05.476205Z",
     "iopub.status.busy": "2023-04-20T02:51:05.475942Z",
     "iopub.status.idle": "2023-04-20T02:51:05.489172Z",
     "shell.execute_reply": "2023-04-20T02:51:05.488300Z"
    },
    "papermill": {
     "duration": 0.02886,
     "end_time": "2023-04-20T02:51:05.491390",
     "exception": false,
     "start_time": "2023-04-20T02:51:05.462530",
     "status": "completed"
    },
    "tags": []
   },
   "outputs": [
    {
     "data": {
      "text/plain": [
       "Cold     3593\n",
       "Rainy    1726\n",
       "Dusty    1543\n",
       "Name: Target, dtype: int64"
      ]
     },
     "execution_count": 9,
     "metadata": {},
     "output_type": "execute_result"
    }
   ],
   "source": [
    "WeatherData['Target'].value_counts()"
   ]
  },
  {
   "cell_type": "code",
   "execution_count": 10,
   "id": "a53be341",
   "metadata": {
    "execution": {
     "iopub.execute_input": "2023-04-20T02:51:05.518053Z",
     "iopub.status.busy": "2023-04-20T02:51:05.517707Z",
     "iopub.status.idle": "2023-04-20T02:51:05.593070Z",
     "shell.execute_reply": "2023-04-20T02:51:05.591987Z"
    },
    "papermill": {
     "duration": 0.091566,
     "end_time": "2023-04-20T02:51:05.595740",
     "exception": false,
     "start_time": "2023-04-20T02:51:05.504174",
     "status": "completed"
    },
    "tags": []
   },
   "outputs": [],
   "source": [
    "Features = np.stack(WeatherData['image'].values)\n",
    "Target = WeatherData['Target']"
   ]
  },
  {
   "cell_type": "code",
   "execution_count": 11,
   "id": "a882c538",
   "metadata": {
    "execution": {
     "iopub.execute_input": "2023-04-20T02:51:05.623267Z",
     "iopub.status.busy": "2023-04-20T02:51:05.622957Z",
     "iopub.status.idle": "2023-04-20T02:52:28.410803Z",
     "shell.execute_reply": "2023-04-20T02:52:28.409647Z"
    },
    "papermill": {
     "duration": 82.804843,
     "end_time": "2023-04-20T02:52:28.413703",
     "exception": false,
     "start_time": "2023-04-20T02:51:05.608860",
     "status": "completed"
    },
    "tags": []
   },
   "outputs": [],
   "source": [
    "from tensorflow.keras.utils import to_categorical\n",
    "from sklearn.preprocessing import LabelEncoder\n",
    "\n",
    "x_train_o, x_test_o, y_train_o, y_test_o = train_test_split(Features, Target, test_size=0.3,random_state=666)\n",
    "x_train = np.asarray(x_train_o.tolist())\n",
    "x_test = np.asarray(x_test_o.tolist())\n",
    "x_train_mean = np.mean(x_train)\n",
    "x_train_std = np.std(x_train)\n",
    "x_test_mean = np.mean(x_test)\n",
    "x_test_std = np.std(x_test)\n",
    "x_train = (x_train - x_train_mean)/x_train_std\n",
    "x_test = (x_test - x_test_mean)/x_test_std"
   ]
  },
  {
   "cell_type": "code",
   "execution_count": 12,
   "id": "b1974769",
   "metadata": {
    "execution": {
     "iopub.execute_input": "2023-04-20T02:52:28.441701Z",
     "iopub.status.busy": "2023-04-20T02:52:28.441390Z",
     "iopub.status.idle": "2023-04-20T02:52:28.781637Z",
     "shell.execute_reply": "2023-04-20T02:52:28.780543Z"
    },
    "papermill": {
     "duration": 0.357034,
     "end_time": "2023-04-20T02:52:28.784436",
     "exception": false,
     "start_time": "2023-04-20T02:52:28.427402",
     "status": "completed"
    },
    "tags": []
   },
   "outputs": [],
   "source": [
    "label_encoder = LabelEncoder()\n",
    "y_train_o = label_encoder.fit_transform(y_train_o)\n",
    "y_test_o = label_encoder.transform(y_test_o)\n",
    "y_train = to_categorical(y_train_o, num_classes = 3)\n",
    "y_test = to_categorical(y_test_o, num_classes = 3)\n",
    "x_train, x_validate, y_train, y_validate = train_test_split(x_train, y_train, test_size = 0.2, random_state = 999, stratify=y_train)"
   ]
  },
  {
   "cell_type": "code",
   "execution_count": 13,
   "id": "72d41b91",
   "metadata": {
    "execution": {
     "iopub.execute_input": "2023-04-20T02:52:28.812322Z",
     "iopub.status.busy": "2023-04-20T02:52:28.811653Z",
     "iopub.status.idle": "2023-04-20T02:52:28.817260Z",
     "shell.execute_reply": "2023-04-20T02:52:28.816356Z"
    },
    "papermill": {
     "duration": 0.021979,
     "end_time": "2023-04-20T02:52:28.819586",
     "exception": false,
     "start_time": "2023-04-20T02:52:28.797607",
     "status": "completed"
    },
    "tags": []
   },
   "outputs": [],
   "source": [
    "input_shape = (100, 100, 3)\n",
    "num_classes = 3"
   ]
  },
  {
   "cell_type": "code",
   "execution_count": 14,
   "id": "c3afd9b3",
   "metadata": {
    "execution": {
     "iopub.execute_input": "2023-04-20T02:52:28.846437Z",
     "iopub.status.busy": "2023-04-20T02:52:28.846171Z",
     "iopub.status.idle": "2023-04-20T02:52:28.851167Z",
     "shell.execute_reply": "2023-04-20T02:52:28.850079Z"
    },
    "papermill": {
     "duration": 0.021175,
     "end_time": "2023-04-20T02:52:28.853660",
     "exception": false,
     "start_time": "2023-04-20T02:52:28.832485",
     "status": "completed"
    },
    "tags": []
   },
   "outputs": [],
   "source": [
    "x_train = x_train.reshape(x_train.shape[0], *(100, 100, 3))\n",
    "x_test = x_test.reshape(x_test.shape[0], *(100, 100, 3))\n",
    "x_validate = x_validate.reshape(x_validate.shape[0], *(100, 100, 3))"
   ]
  },
  {
   "cell_type": "code",
   "execution_count": 15,
   "id": "339cc2cc",
   "metadata": {
    "execution": {
     "iopub.execute_input": "2023-04-20T02:52:28.880512Z",
     "iopub.status.busy": "2023-04-20T02:52:28.880244Z",
     "iopub.status.idle": "2023-04-20T02:52:34.431508Z",
     "shell.execute_reply": "2023-04-20T02:52:34.430474Z"
    },
    "papermill": {
     "duration": 5.567833,
     "end_time": "2023-04-20T02:52:34.434150",
     "exception": false,
     "start_time": "2023-04-20T02:52:28.866317",
     "status": "completed"
    },
    "tags": []
   },
   "outputs": [
    {
     "name": "stdout",
     "output_type": "stream",
     "text": [
      "Downloading data from https://storage.googleapis.com/tensorflow/keras-applications/vgg16/vgg16_weights_tf_dim_ordering_tf_kernels_notop.h5\n",
      "58889256/58889256 [==============================] - 2s 0us/step\n"
     ]
    }
   ],
   "source": [
    "vgg_model = VGG16(weights='imagenet', include_top=False, input_shape=input_shape)\n",
    "\n",
    "for layer in vgg_model.layers:\n",
    "    layer.trainable = False\n",
    "\n",
    "x = Flatten()(vgg_model.output)\n",
    "x = Dense(256, activation='relu')(x)\n",
    "x = Dense(num_classes, activation='softmax')(x)\n",
    "\n",
    "model = Model(inputs=vgg_model.input, outputs=x)"
   ]
  },
  {
   "cell_type": "code",
   "execution_count": 16,
   "id": "06299b27",
   "metadata": {
    "execution": {
     "iopub.execute_input": "2023-04-20T02:52:34.467346Z",
     "iopub.status.busy": "2023-04-20T02:52:34.465647Z",
     "iopub.status.idle": "2023-04-20T03:09:32.432404Z",
     "shell.execute_reply": "2023-04-20T03:09:32.431361Z"
    },
    "papermill": {
     "duration": 1017.985341,
     "end_time": "2023-04-20T03:09:32.434815",
     "exception": false,
     "start_time": "2023-04-20T02:52:34.449474",
     "status": "completed"
    },
    "tags": []
   },
   "outputs": [
    {
     "name": "stdout",
     "output_type": "stream",
     "text": [
      "Epoch 1/100\n",
      "60/60 [==============================] - 20s 209ms/step - loss: 0.7281 - accuracy: 0.7218 - val_loss: 0.3745 - val_accuracy: 0.8564 - lr: 0.0010\n",
      "Epoch 2/100\n",
      "60/60 [==============================] - 9s 160ms/step - loss: 0.3534 - accuracy: 0.8587 - val_loss: 0.2664 - val_accuracy: 0.9022 - lr: 0.0010\n",
      "Epoch 3/100\n",
      "60/60 [==============================] - 9s 156ms/step - loss: 0.3071 - accuracy: 0.8777 - val_loss: 0.2581 - val_accuracy: 0.9011 - lr: 0.0010\n",
      "Epoch 4/100\n",
      "60/60 [==============================] - 10s 166ms/step - loss: 0.2765 - accuracy: 0.8915 - val_loss: 0.2270 - val_accuracy: 0.9168 - lr: 0.0010\n",
      "Epoch 5/100\n",
      "60/60 [==============================] - 9s 154ms/step - loss: 0.2592 - accuracy: 0.9034 - val_loss: 0.2575 - val_accuracy: 0.9011 - lr: 0.0010\n",
      "Epoch 6/100\n",
      "60/60 [==============================] - 9s 157ms/step - loss: 0.2537 - accuracy: 0.8999 - val_loss: 0.2121 - val_accuracy: 0.9188 - lr: 0.0010\n",
      "Epoch 7/100\n",
      "60/60 [==============================] - 10s 166ms/step - loss: 0.2414 - accuracy: 0.9039 - val_loss: 0.2302 - val_accuracy: 0.9136 - lr: 0.0010\n",
      "Epoch 8/100\n",
      "60/60 [==============================] - 9s 155ms/step - loss: 0.2123 - accuracy: 0.9256 - val_loss: 0.2494 - val_accuracy: 0.9043 - lr: 0.0010\n",
      "Epoch 9/100\n",
      "60/60 [==============================] - 10s 159ms/step - loss: 0.2092 - accuracy: 0.9238 - val_loss: 0.2151 - val_accuracy: 0.9199 - lr: 0.0010\n",
      "Epoch 10/100\n",
      "60/60 [==============================] - 10s 167ms/step - loss: 0.1936 - accuracy: 0.9267 - val_loss: 0.2341 - val_accuracy: 0.9126 - lr: 0.0010\n",
      "Epoch 11/100\n",
      "60/60 [==============================] - 10s 162ms/step - loss: 0.1915 - accuracy: 0.9262 - val_loss: 0.2500 - val_accuracy: 0.9095 - lr: 0.0010\n",
      "Epoch 12/100\n",
      "60/60 [==============================] - 9s 157ms/step - loss: 0.1905 - accuracy: 0.9230 - val_loss: 0.1939 - val_accuracy: 0.9199 - lr: 0.0010\n",
      "Epoch 13/100\n",
      "60/60 [==============================] - 11s 175ms/step - loss: 0.1775 - accuracy: 0.9283 - val_loss: 0.2315 - val_accuracy: 0.9178 - lr: 0.0010\n",
      "Epoch 14/100\n",
      "60/60 [==============================] - 10s 163ms/step - loss: 0.1748 - accuracy: 0.9330 - val_loss: 0.2133 - val_accuracy: 0.9199 - lr: 0.0010\n",
      "Epoch 15/100\n",
      "60/60 [==============================] - 10s 167ms/step - loss: 0.1665 - accuracy: 0.9357 - val_loss: 0.1984 - val_accuracy: 0.9282 - lr: 0.0010\n",
      "Epoch 16/100\n",
      "60/60 [==============================] - 11s 175ms/step - loss: 0.1521 - accuracy: 0.9457 - val_loss: 0.2007 - val_accuracy: 0.9240 - lr: 0.0010\n",
      "Epoch 17/100\n",
      "60/60 [==============================] - 10s 163ms/step - loss: 0.1739 - accuracy: 0.9338 - val_loss: 0.2090 - val_accuracy: 0.9240 - lr: 0.0010\n",
      "Epoch 18/100\n",
      "60/60 [==============================] - 10s 162ms/step - loss: 0.1981 - accuracy: 0.9224 - val_loss: 0.2081 - val_accuracy: 0.9209 - lr: 0.0010\n",
      "Epoch 19/100\n",
      "60/60 [==============================] - 10s 163ms/step - loss: 0.1502 - accuracy: 0.9431 - val_loss: 0.1884 - val_accuracy: 0.9355 - lr: 0.0010\n",
      "Epoch 20/100\n",
      "60/60 [==============================] - 10s 165ms/step - loss: 0.1459 - accuracy: 0.9476 - val_loss: 0.1943 - val_accuracy: 0.9251 - lr: 0.0010\n",
      "Epoch 21/100\n",
      "60/60 [==============================] - 10s 163ms/step - loss: 0.1327 - accuracy: 0.9510 - val_loss: 0.2236 - val_accuracy: 0.9178 - lr: 0.0010\n",
      "Epoch 22/100\n",
      "60/60 [==============================] - 10s 169ms/step - loss: 0.1521 - accuracy: 0.9410 - val_loss: 0.2976 - val_accuracy: 0.8751 - lr: 0.0010\n",
      "Epoch 23/100\n",
      "60/60 [==============================] - 9s 157ms/step - loss: 0.1372 - accuracy: 0.9481 - val_loss: 0.1905 - val_accuracy: 0.9313 - lr: 0.0010\n",
      "Epoch 24/100\n",
      "60/60 [==============================] - 9s 156ms/step - loss: 0.1352 - accuracy: 0.9516 - val_loss: 0.1764 - val_accuracy: 0.9292 - lr: 0.0010\n",
      "Epoch 25/100\n",
      "60/60 [==============================] - 10s 167ms/step - loss: 0.1214 - accuracy: 0.9566 - val_loss: 0.2206 - val_accuracy: 0.9105 - lr: 0.0010\n",
      "Epoch 26/100\n",
      "60/60 [==============================] - 10s 160ms/step - loss: 0.1189 - accuracy: 0.9542 - val_loss: 0.2597 - val_accuracy: 0.9105 - lr: 0.0010\n",
      "Epoch 27/100\n",
      "60/60 [==============================] - 9s 157ms/step - loss: 0.1373 - accuracy: 0.9481 - val_loss: 0.1882 - val_accuracy: 0.9303 - lr: 0.0010\n",
      "Epoch 28/100\n",
      "60/60 [==============================] - 10s 167ms/step - loss: 0.1649 - accuracy: 0.9383 - val_loss: 0.1961 - val_accuracy: 0.9261 - lr: 0.0010\n",
      "Epoch 29/100\n",
      "60/60 [==============================] - 9s 157ms/step - loss: 0.1313 - accuracy: 0.9500 - val_loss: 0.1883 - val_accuracy: 0.9376 - lr: 0.0010\n",
      "Epoch 30/100\n",
      "60/60 [==============================] - 9s 157ms/step - loss: 0.1249 - accuracy: 0.9505 - val_loss: 0.1636 - val_accuracy: 0.9417 - lr: 0.0010\n",
      "Epoch 31/100\n",
      "60/60 [==============================] - 10s 165ms/step - loss: 0.1248 - accuracy: 0.9510 - val_loss: 0.1922 - val_accuracy: 0.9292 - lr: 0.0010\n",
      "Epoch 32/100\n",
      "60/60 [==============================] - 9s 156ms/step - loss: 0.1219 - accuracy: 0.9558 - val_loss: 0.1939 - val_accuracy: 0.9334 - lr: 0.0010\n",
      "Epoch 33/100\n",
      "60/60 [==============================] - 9s 157ms/step - loss: 0.1147 - accuracy: 0.9584 - val_loss: 0.1758 - val_accuracy: 0.9376 - lr: 0.0010\n",
      "Epoch 34/100\n",
      "60/60 [==============================] - 10s 165ms/step - loss: 0.1010 - accuracy: 0.9603 - val_loss: 0.1922 - val_accuracy: 0.9313 - lr: 0.0010\n",
      "Epoch 35/100\n",
      "60/60 [==============================] - 9s 156ms/step - loss: 0.1191 - accuracy: 0.9555 - val_loss: 0.2496 - val_accuracy: 0.9147 - lr: 0.0010\n",
      "Epoch 36/100\n",
      "60/60 [==============================] - 10s 158ms/step - loss: 0.1061 - accuracy: 0.9578 - val_loss: 0.1910 - val_accuracy: 0.9355 - lr: 0.0010\n",
      "Epoch 37/100\n",
      "60/60 [==============================] - 9s 158ms/step - loss: 0.1362 - accuracy: 0.9484 - val_loss: 0.2481 - val_accuracy: 0.9116 - lr: 0.0010\n",
      "Epoch 38/100\n",
      "60/60 [==============================] - 9s 158ms/step - loss: 0.1161 - accuracy: 0.9584 - val_loss: 0.1945 - val_accuracy: 0.9292 - lr: 0.0010\n",
      "Epoch 39/100\n",
      "60/60 [==============================] - 9s 154ms/step - loss: 0.1107 - accuracy: 0.9566 - val_loss: 0.1878 - val_accuracy: 0.9396 - lr: 0.0010\n",
      "Epoch 40/100\n",
      "60/60 [==============================] - 10s 161ms/step - loss: 0.1056 - accuracy: 0.9611 - val_loss: 0.1821 - val_accuracy: 0.9344 - lr: 0.0010\n",
      "Epoch 41/100\n",
      "60/60 [==============================] - 10s 167ms/step - loss: 0.1086 - accuracy: 0.9611 - val_loss: 0.1951 - val_accuracy: 0.9355 - lr: 0.0010\n",
      "Epoch 42/100\n",
      "60/60 [==============================] - 9s 157ms/step - loss: 0.1017 - accuracy: 0.9606 - val_loss: 0.1948 - val_accuracy: 0.9344 - lr: 0.0010\n",
      "Epoch 43/100\n",
      "60/60 [==============================] - 9s 155ms/step - loss: 0.0990 - accuracy: 0.9645 - val_loss: 0.1917 - val_accuracy: 0.9334 - lr: 0.0010\n",
      "Epoch 44/100\n",
      "60/60 [==============================] - 10s 165ms/step - loss: 0.0954 - accuracy: 0.9632 - val_loss: 0.1790 - val_accuracy: 0.9386 - lr: 0.0010\n",
      "Epoch 45/100\n",
      "60/60 [==============================] - 9s 155ms/step - loss: 0.1060 - accuracy: 0.9616 - val_loss: 0.2091 - val_accuracy: 0.9334 - lr: 0.0010\n",
      "Epoch 46/100\n",
      "60/60 [==============================] - 9s 154ms/step - loss: 0.2041 - accuracy: 0.9275 - val_loss: 0.1906 - val_accuracy: 0.9230 - lr: 0.0010\n",
      "Epoch 47/100\n",
      "60/60 [==============================] - 10s 167ms/step - loss: 0.1137 - accuracy: 0.9555 - val_loss: 0.2519 - val_accuracy: 0.9188 - lr: 0.0010\n",
      "Epoch 48/100\n",
      "60/60 [==============================] - 9s 156ms/step - loss: 0.1111 - accuracy: 0.9563 - val_loss: 0.2055 - val_accuracy: 0.9334 - lr: 0.0010\n",
      "Epoch 49/100\n",
      "60/60 [==============================] - 9s 158ms/step - loss: 0.0975 - accuracy: 0.9592 - val_loss: 0.1837 - val_accuracy: 0.9355 - lr: 0.0010\n",
      "Epoch 50/100\n",
      "60/60 [==============================] - 10s 169ms/step - loss: 0.1043 - accuracy: 0.9616 - val_loss: 0.1823 - val_accuracy: 0.9324 - lr: 0.0010\n",
      "Epoch 51/100\n",
      "60/60 [==============================] - 9s 156ms/step - loss: 0.0951 - accuracy: 0.9616 - val_loss: 0.1889 - val_accuracy: 0.9303 - lr: 0.0010\n",
      "Epoch 52/100\n",
      "60/60 [==============================] - 9s 156ms/step - loss: 0.0852 - accuracy: 0.9666 - val_loss: 0.1832 - val_accuracy: 0.9334 - lr: 0.0010\n",
      "Epoch 53/100\n",
      "60/60 [==============================] - 10s 169ms/step - loss: 0.0917 - accuracy: 0.9621 - val_loss: 0.1990 - val_accuracy: 0.9334 - lr: 0.0010\n",
      "Epoch 54/100\n",
      "60/60 [==============================] - 9s 161ms/step - loss: 0.0893 - accuracy: 0.9688 - val_loss: 0.1908 - val_accuracy: 0.9313 - lr: 0.0010\n",
      "Epoch 55/100\n",
      "60/60 [==============================] - 9s 155ms/step - loss: 0.0930 - accuracy: 0.9629 - val_loss: 0.2057 - val_accuracy: 0.9376 - lr: 0.0010\n",
      "Epoch 56/100\n",
      "60/60 [==============================] - 10s 168ms/step - loss: 0.0746 - accuracy: 0.9746 - val_loss: 0.2166 - val_accuracy: 0.9251 - lr: 0.0010\n",
      "Epoch 57/100\n",
      "60/60 [==============================] - 9s 155ms/step - loss: 0.0880 - accuracy: 0.9682 - val_loss: 0.2008 - val_accuracy: 0.9272 - lr: 0.0010\n",
      "Epoch 58/100\n",
      "60/60 [==============================] - 10s 158ms/step - loss: 0.0726 - accuracy: 0.9719 - val_loss: 0.2199 - val_accuracy: 0.9230 - lr: 0.0010\n",
      "Epoch 59/100\n",
      "60/60 [==============================] - 10s 169ms/step - loss: 0.0868 - accuracy: 0.9701 - val_loss: 0.1784 - val_accuracy: 0.9365 - lr: 0.0010\n",
      "Epoch 60/100\n",
      "60/60 [==============================] - 9s 157ms/step - loss: 0.0828 - accuracy: 0.9725 - val_loss: 0.1944 - val_accuracy: 0.9334 - lr: 0.0010\n",
      "Epoch 61/100\n",
      "60/60 [==============================] - 9s 156ms/step - loss: 0.0747 - accuracy: 0.9706 - val_loss: 0.1829 - val_accuracy: 0.9303 - lr: 0.0010\n",
      "Epoch 62/100\n",
      "60/60 [==============================] - 10s 161ms/step - loss: 0.0780 - accuracy: 0.9714 - val_loss: 0.1746 - val_accuracy: 0.9386 - lr: 0.0010\n",
      "Epoch 63/100\n",
      "60/60 [==============================] - 10s 157ms/step - loss: 0.0792 - accuracy: 0.9722 - val_loss: 0.1904 - val_accuracy: 0.9272 - lr: 0.0010\n",
      "Epoch 64/100\n",
      "60/60 [==============================] - 10s 159ms/step - loss: 0.0863 - accuracy: 0.9690 - val_loss: 0.2107 - val_accuracy: 0.9188 - lr: 0.0010\n",
      "Epoch 65/100\n",
      "60/60 [==============================] - 10s 163ms/step - loss: 0.0858 - accuracy: 0.9701 - val_loss: 0.1690 - val_accuracy: 0.9396 - lr: 0.0010\n",
      "Epoch 66/100\n",
      "60/60 [==============================] - 10s 167ms/step - loss: 0.0673 - accuracy: 0.9719 - val_loss: 0.1981 - val_accuracy: 0.9303 - lr: 0.0010\n",
      "Epoch 67/100\n",
      "60/60 [==============================] - 9s 156ms/step - loss: 0.0658 - accuracy: 0.9764 - val_loss: 0.1851 - val_accuracy: 0.9324 - lr: 0.0010\n",
      "Epoch 68/100\n",
      "60/60 [==============================] - 10s 160ms/step - loss: 0.0655 - accuracy: 0.9746 - val_loss: 0.1910 - val_accuracy: 0.9365 - lr: 0.0010\n",
      "Epoch 69/100\n",
      "60/60 [==============================] - 10s 168ms/step - loss: 0.0611 - accuracy: 0.9786 - val_loss: 0.2090 - val_accuracy: 0.9292 - lr: 0.0010\n",
      "Epoch 70/100\n",
      "60/60 [==============================] - 9s 158ms/step - loss: 0.0693 - accuracy: 0.9746 - val_loss: 0.2129 - val_accuracy: 0.9261 - lr: 0.0010\n",
      "Epoch 71/100\n",
      "60/60 [==============================] - 10s 161ms/step - loss: 0.0699 - accuracy: 0.9741 - val_loss: 0.2120 - val_accuracy: 0.9251 - lr: 0.0010\n",
      "Epoch 72/100\n",
      "60/60 [==============================] - 10s 169ms/step - loss: 0.0614 - accuracy: 0.9799 - val_loss: 0.2145 - val_accuracy: 0.9292 - lr: 0.0010\n",
      "Epoch 73/100\n",
      "60/60 [==============================] - 9s 158ms/step - loss: 0.0655 - accuracy: 0.9786 - val_loss: 0.2140 - val_accuracy: 0.9355 - lr: 0.0010\n",
      "Epoch 74/100\n",
      "60/60 [==============================] - 10s 162ms/step - loss: 0.0671 - accuracy: 0.9762 - val_loss: 0.2094 - val_accuracy: 0.9230 - lr: 0.0010\n",
      "Epoch 75/100\n",
      "60/60 [==============================] - 10s 170ms/step - loss: 0.0703 - accuracy: 0.9749 - val_loss: 0.2184 - val_accuracy: 0.9313 - lr: 0.0010\n",
      "Epoch 76/100\n",
      "60/60 [==============================] - 10s 159ms/step - loss: 0.0753 - accuracy: 0.9730 - val_loss: 0.2029 - val_accuracy: 0.9272 - lr: 0.0010\n",
      "Epoch 77/100\n",
      "60/60 [==============================] - 10s 164ms/step - loss: 0.0663 - accuracy: 0.9759 - val_loss: 0.2042 - val_accuracy: 0.9365 - lr: 0.0010\n",
      "Epoch 78/100\n",
      "60/60 [==============================] - 10s 167ms/step - loss: 0.0566 - accuracy: 0.9807 - val_loss: 0.2178 - val_accuracy: 0.9334 - lr: 0.0010\n",
      "Epoch 79/100\n",
      "60/60 [==============================] - 9s 156ms/step - loss: 0.0710 - accuracy: 0.9762 - val_loss: 0.2310 - val_accuracy: 0.9261 - lr: 0.0010\n",
      "Epoch 80/100\n",
      "60/60 [==============================] - 10s 161ms/step - loss: 0.0747 - accuracy: 0.9727 - val_loss: 0.2472 - val_accuracy: 0.9209 - lr: 0.0010\n",
      "Epoch 81/100\n",
      "60/60 [==============================] - 10s 161ms/step - loss: 0.0757 - accuracy: 0.9711 - val_loss: 0.2228 - val_accuracy: 0.9282 - lr: 0.0010\n",
      "Epoch 82/100\n",
      "60/60 [==============================] - 10s 168ms/step - loss: 0.0769 - accuracy: 0.9727 - val_loss: 0.2211 - val_accuracy: 0.9240 - lr: 0.0010\n",
      "Epoch 83/100\n",
      "60/60 [==============================] - 10s 163ms/step - loss: 0.0744 - accuracy: 0.9749 - val_loss: 0.2039 - val_accuracy: 0.9303 - lr: 0.0010\n",
      "Epoch 84/100\n",
      "60/60 [==============================] - 10s 160ms/step - loss: 0.0606 - accuracy: 0.9767 - val_loss: 0.2251 - val_accuracy: 0.9240 - lr: 0.0010\n",
      "Epoch 85/100\n",
      "60/60 [==============================] - 10s 169ms/step - loss: 0.0668 - accuracy: 0.9741 - val_loss: 0.2359 - val_accuracy: 0.9282 - lr: 0.0010\n",
      "Epoch 86/100\n",
      "60/60 [==============================] - 10s 160ms/step - loss: 0.0572 - accuracy: 0.9775 - val_loss: 0.1907 - val_accuracy: 0.9376 - lr: 0.0010\n",
      "Epoch 87/100\n",
      "60/60 [==============================] - 10s 161ms/step - loss: 0.0663 - accuracy: 0.9754 - val_loss: 0.2651 - val_accuracy: 0.9240 - lr: 0.0010\n",
      "Epoch 88/100\n",
      "60/60 [==============================] - 10s 163ms/step - loss: 0.0605 - accuracy: 0.9751 - val_loss: 0.2069 - val_accuracy: 0.9272 - lr: 0.0010\n",
      "Epoch 89/100\n",
      "60/60 [==============================] - 9s 156ms/step - loss: 0.0608 - accuracy: 0.9788 - val_loss: 0.2579 - val_accuracy: 0.9220 - lr: 0.0010\n",
      "Epoch 90/100\n",
      "60/60 [==============================] - 10s 163ms/step - loss: 0.0634 - accuracy: 0.9764 - val_loss: 0.2262 - val_accuracy: 0.9251 - lr: 0.0010\n",
      "Epoch 91/100\n",
      "60/60 [==============================] - 10s 165ms/step - loss: 0.0880 - accuracy: 0.9648 - val_loss: 0.2433 - val_accuracy: 0.9230 - lr: 0.0010\n",
      "Epoch 92/100\n",
      "60/60 [==============================] - 9s 158ms/step - loss: 0.0624 - accuracy: 0.9756 - val_loss: 0.2175 - val_accuracy: 0.9355 - lr: 0.0010\n",
      "Epoch 93/100\n",
      "60/60 [==============================] - 10s 163ms/step - loss: 0.0671 - accuracy: 0.9738 - val_loss: 0.2166 - val_accuracy: 0.9324 - lr: 0.0010\n",
      "Epoch 94/100\n",
      "60/60 [==============================] - 10s 164ms/step - loss: 0.0521 - accuracy: 0.9809 - val_loss: 0.2210 - val_accuracy: 0.9344 - lr: 0.0010\n",
      "Epoch 95/100\n",
      "60/60 [==============================] - 10s 159ms/step - loss: 0.0589 - accuracy: 0.9756 - val_loss: 0.2404 - val_accuracy: 0.9272 - lr: 0.0010\n",
      "Epoch 96/100\n",
      "60/60 [==============================] - 10s 164ms/step - loss: 0.0539 - accuracy: 0.9804 - val_loss: 0.2365 - val_accuracy: 0.9292 - lr: 0.0010\n",
      "Epoch 97/100\n",
      "60/60 [==============================] - 9s 158ms/step - loss: 0.0776 - accuracy: 0.9727 - val_loss: 0.2314 - val_accuracy: 0.9261 - lr: 0.0010\n",
      "Epoch 98/100\n",
      "60/60 [==============================] - 10s 162ms/step - loss: 0.0565 - accuracy: 0.9791 - val_loss: 0.2214 - val_accuracy: 0.9344 - lr: 0.0010\n",
      "Epoch 99/100\n",
      "60/60 [==============================] - 10s 165ms/step - loss: 0.0506 - accuracy: 0.9809 - val_loss: 0.2369 - val_accuracy: 0.9386 - lr: 0.0010\n",
      "Epoch 100/100\n",
      "60/60 [==============================] - 9s 156ms/step - loss: 0.0455 - accuracy: 0.9849 - val_loss: 0.2478 - val_accuracy: 0.9396 - lr: 0.0010\n"
     ]
    }
   ],
   "source": [
    "optimizer = Adam(lr=0.01, beta_1=0.9, beta_2=0.999, epsilon=1e-8, amsgrad=False)\n",
    "learning_rate_reduction = ReduceLROnPlateau(monitor='val_acc', patience=4, verbose=1, factor=0.5, min_lr=0.00001)\n",
    "\n",
    "#Data Generation\n",
    "datagen = ImageDataGenerator(\n",
    "        featurewise_center=False, \n",
    "        samplewise_center=False, \n",
    "        featurewise_std_normalization=False,\n",
    "        samplewise_std_normalization=False,\n",
    "        zca_whitening=False,\n",
    "        rotation_range=90,\n",
    "        zoom_range = 0.1, \n",
    "        width_shift_range=0.1,\n",
    "        height_shift_range=0.1,\n",
    "        horizontal_flip=True,\n",
    "        vertical_flip=True,\n",
    "        shear_range = 10) \n",
    "datagen.fit(x_train)\n",
    "\n",
    "model.compile(optimizer = optimizer , loss = \"categorical_crossentropy\", metrics=[\"accuracy\"])\n",
    "history = model.fit(datagen.flow(x_train,y_train, batch_size=64),\n",
    "                              epochs = 100, validation_data = (x_validate,y_validate),\n",
    "                              verbose = 1, steps_per_epoch=x_train.shape[0] // 64\n",
    "                              , callbacks=[learning_rate_reduction])"
   ]
  },
  {
   "cell_type": "code",
   "execution_count": 17,
   "id": "e6b4410d",
   "metadata": {
    "execution": {
     "iopub.execute_input": "2023-04-20T03:09:33.100889Z",
     "iopub.status.busy": "2023-04-20T03:09:33.100514Z",
     "iopub.status.idle": "2023-04-20T03:09:39.824376Z",
     "shell.execute_reply": "2023-04-20T03:09:39.823361Z"
    },
    "papermill": {
     "duration": 7.059497,
     "end_time": "2023-04-20T03:09:39.826709",
     "exception": false,
     "start_time": "2023-04-20T03:09:32.767212",
     "status": "completed"
    },
    "tags": []
   },
   "outputs": [
    {
     "name": "stdout",
     "output_type": "stream",
     "text": [
      "Training: accuracy = 0.982041\n",
      "Validation: accuracy = 0.939646\n",
      "Test: accuracy = 0.932977\n"
     ]
    }
   ],
   "source": [
    "Accuracies(model, x_train, x_validate, x_test, y_train, y_validate ,y_test)"
   ]
  },
  {
   "cell_type": "code",
   "execution_count": 18,
   "id": "738ff207",
   "metadata": {
    "execution": {
     "iopub.execute_input": "2023-04-20T03:09:40.558701Z",
     "iopub.status.busy": "2023-04-20T03:09:40.558021Z",
     "iopub.status.idle": "2023-04-20T03:09:42.754734Z",
     "shell.execute_reply": "2023-04-20T03:09:42.753780Z"
    },
    "papermill": {
     "duration": 2.575833,
     "end_time": "2023-04-20T03:09:42.757215",
     "exception": false,
     "start_time": "2023-04-20T03:09:40.181382",
     "status": "completed"
    },
    "tags": []
   },
   "outputs": [
    {
     "name": "stdout",
     "output_type": "stream",
     "text": [
      "65/65 [==============================] - 1s 16ms/step\n"
     ]
    },
    {
     "data": {
      "image/png": "[encoded data removed]",
      "text/plain": [
       "<Figure size 1200x600 with 2 Axes>"
      ]
     },
     "metadata": {},
     "output_type": "display_data"
    }
   ],
   "source": [
    "ConfusionMatrix(model, x_test, y_test, label_encoder)"
   ]
  },
  {
   "cell_type": "code",
   "execution_count": 19,
   "id": "f926ec6a",
   "metadata": {
    "execution": {
     "iopub.execute_input": "2023-04-20T03:09:43.424933Z",
     "iopub.status.busy": "2023-04-20T03:09:43.424555Z",
     "iopub.status.idle": "2023-04-20T03:09:45.111696Z",
     "shell.execute_reply": "2023-04-20T03:09:45.110695Z"
    },
    "papermill": {
     "duration": 2.022894,
     "end_time": "2023-04-20T03:09:45.113682",
     "exception": false,
     "start_time": "2023-04-20T03:09:43.090788",
     "status": "completed"
    },
    "tags": []
   },
   "outputs": [
    {
     "name": "stdout",
     "output_type": "stream",
     "text": [
      "65/65 [==============================] - 1s 16ms/step\n",
      "              precision    recall  f1-score   support\n",
      "\n",
      "           0       0.95      0.95      0.95      1076\n",
      "           1       0.93      0.96      0.95       441\n",
      "           2       0.90      0.88      0.89       542\n",
      "\n",
      "    accuracy                           0.93      2059\n",
      "   macro avg       0.93      0.93      0.93      2059\n",
      "weighted avg       0.93      0.93      0.93      2059\n",
      "\n"
     ]
    }
   ],
   "source": [
    "ClassificationReport(model, x_test, y_test)"
   ]
  },
  {
   "cell_type": "code",
   "execution_count": 20,
   "id": "17264735",
   "metadata": {
    "execution": {
     "iopub.execute_input": "2023-04-20T03:09:45.930022Z",
     "iopub.status.busy": "2023-04-20T03:09:45.928795Z",
     "iopub.status.idle": "2023-04-20T03:09:46.077290Z",
     "shell.execute_reply": "2023-04-20T03:09:46.076201Z"
    },
    "papermill": {
     "duration": 0.626922,
     "end_time": "2023-04-20T03:09:46.079964",
     "exception": false,
     "start_time": "2023-04-20T03:09:45.453042",
     "status": "completed"
    },
    "tags": []
   },
   "outputs": [],
   "source": [
    "model.save('model_main.h5')"
   ]
  },
  {
   "cell_type": "markdown",
   "id": "bcb497f4",
   "metadata": {
    "papermill": {
     "duration": 0.337278,
     "end_time": "2023-04-20T03:09:46.750421",
     "exception": false,
     "start_time": "2023-04-20T03:09:46.413143",
     "status": "completed"
    },
    "tags": []
   },
   "source": [
    "# Cold Weather"
   ]
  },
  {
   "cell_type": "code",
   "execution_count": 21,
   "id": "e4e4bf44",
   "metadata": {
    "execution": {
     "iopub.execute_input": "2023-04-20T03:09:47.422805Z",
     "iopub.status.busy": "2023-04-20T03:09:47.422091Z",
     "iopub.status.idle": "2023-04-20T03:09:47.429988Z",
     "shell.execute_reply": "2023-04-20T03:09:47.429014Z"
    },
    "papermill": {
     "duration": 0.347755,
     "end_time": "2023-04-20T03:09:47.432647",
     "exception": false,
     "start_time": "2023-04-20T03:09:47.084892",
     "status": "completed"
    },
    "tags": []
   },
   "outputs": [],
   "source": [
    "WeatherData_Cold = WeatherData[WeatherData.Target == 'Cold']"
   ]
  },
  {
   "cell_type": "code",
   "execution_count": 22,
   "id": "222e9e79",
   "metadata": {
    "execution": {
     "iopub.execute_input": "2023-04-20T03:09:48.144918Z",
     "iopub.status.busy": "2023-04-20T03:09:48.144541Z",
     "iopub.status.idle": "2023-04-20T03:09:48.151598Z",
     "shell.execute_reply": "2023-04-20T03:09:48.150475Z"
    },
    "papermill": {
     "duration": 0.346835,
     "end_time": "2023-04-20T03:09:48.154929",
     "exception": false,
     "start_time": "2023-04-20T03:09:47.808094",
     "status": "completed"
    },
    "tags": []
   },
   "outputs": [
    {
     "data": {
      "text/plain": [
       "Index(['label', 'path', 'Target', 'image'], dtype='object')"
      ]
     },
     "execution_count": 22,
     "metadata": {},
     "output_type": "execute_result"
    }
   ],
   "source": [
    "WeatherData_Cold.columns"
   ]
  },
  {
   "cell_type": "code",
   "execution_count": 23,
   "id": "69d653f7",
   "metadata": {
    "execution": {
     "iopub.execute_input": "2023-04-20T03:09:48.870729Z",
     "iopub.status.busy": "2023-04-20T03:09:48.870321Z",
     "iopub.status.idle": "2023-04-20T03:09:48.879510Z",
     "shell.execute_reply": "2023-04-20T03:09:48.878420Z"
    },
    "papermill": {
     "duration": 0.389614,
     "end_time": "2023-04-20T03:09:48.881877",
     "exception": false,
     "start_time": "2023-04-20T03:09:48.492263",
     "status": "completed"
    },
    "tags": []
   },
   "outputs": [
    {
     "data": {
      "text/plain": [
       "rime     1160\n",
       "dew       698\n",
       "glaze     639\n",
       "snow      621\n",
       "frost     475\n",
       "Name: label, dtype: int64"
      ]
     },
     "execution_count": 23,
     "metadata": {},
     "output_type": "execute_result"
    }
   ],
   "source": [
    "WeatherData_Cold['label'].value_counts()"
   ]
  },
  {
   "cell_type": "code",
   "execution_count": 24,
   "id": "2f7667ce",
   "metadata": {
    "execution": {
     "iopub.execute_input": "2023-04-20T03:09:49.622417Z",
     "iopub.status.busy": "2023-04-20T03:09:49.621143Z",
     "iopub.status.idle": "2023-04-20T03:09:49.630322Z",
     "shell.execute_reply": "2023-04-20T03:09:49.629188Z"
    },
    "papermill": {
     "duration": 0.351596,
     "end_time": "2023-04-20T03:09:49.633079",
     "exception": false,
     "start_time": "2023-04-20T03:09:49.281483",
     "status": "completed"
    },
    "tags": []
   },
   "outputs": [
    {
     "name": "stderr",
     "output_type": "stream",
     "text": [
      "/opt/conda/lib/python3.7/site-packages/ipykernel_launcher.py:13: SettingWithCopyWarning: \n",
      "A value is trying to be set on a copy of a slice from a DataFrame.\n",
      "Try using .loc[row_indexer,col_indexer] = value instead\n",
      "\n",
      "See the caveats in the documentation: https://pandas.pydata.org/pandas-docs/stable/user_guide/indexing.html#returning-a-view-versus-a-copy\n",
      "  del sys.path[0]\n"
     ]
    }
   ],
   "source": [
    "Cold_SHD = {\n",
    "    'Safe': ['dew', 'frost'],\n",
    "    'Potentially Hazardous': ['glaze', 'rime','snow']\n",
    "}\n",
    "\n",
    "New_Target = []\n",
    "for l in WeatherData_Cold.label:\n",
    "    if l in Cold_SHD['Safe']:\n",
    "        New_Target.append('Safe')\n",
    "    else:\n",
    "        New_Target.append('Potentially Hazardous')\n",
    "        \n",
    "WeatherData_Cold['SPHD'] = New_Target"
   ]
  },
  {
   "cell_type": "code",
   "execution_count": 25,
   "id": "e32813dc",
   "metadata": {
    "execution": {
     "iopub.execute_input": "2023-04-20T03:09:50.303070Z",
     "iopub.status.busy": "2023-04-20T03:09:50.302697Z",
     "iopub.status.idle": "2023-04-20T03:09:50.309895Z",
     "shell.execute_reply": "2023-04-20T03:09:50.308903Z"
    },
    "papermill": {
     "duration": 0.343271,
     "end_time": "2023-04-20T03:09:50.311922",
     "exception": false,
     "start_time": "2023-04-20T03:09:49.968651",
     "status": "completed"
    },
    "tags": []
   },
   "outputs": [
    {
     "data": {
      "text/plain": [
       "array(['Safe', 'Potentially Hazardous'], dtype=object)"
      ]
     },
     "execution_count": 25,
     "metadata": {},
     "output_type": "execute_result"
    }
   ],
   "source": [
    "WeatherData_Cold['SPHD'].unique()"
   ]
  },
  {
   "cell_type": "code",
   "execution_count": 26,
   "id": "028a29bb",
   "metadata": {
    "execution": {
     "iopub.execute_input": "2023-04-20T03:09:51.028552Z",
     "iopub.status.busy": "2023-04-20T03:09:51.027793Z",
     "iopub.status.idle": "2023-04-20T03:09:51.072715Z",
     "shell.execute_reply": "2023-04-20T03:09:51.071660Z"
    },
    "papermill": {
     "duration": 0.380831,
     "end_time": "2023-04-20T03:09:51.075442",
     "exception": false,
     "start_time": "2023-04-20T03:09:50.694611",
     "status": "completed"
    },
    "tags": []
   },
   "outputs": [],
   "source": [
    "Features = np.stack(WeatherData_Cold['image'].values)\n",
    "Target = WeatherData_Cold['label']"
   ]
  },
  {
   "cell_type": "code",
   "execution_count": 27,
   "id": "70982b9c",
   "metadata": {
    "execution": {
     "iopub.execute_input": "2023-04-20T03:09:51.749106Z",
     "iopub.status.busy": "2023-04-20T03:09:51.748737Z",
     "iopub.status.idle": "2023-04-20T03:10:36.356184Z",
     "shell.execute_reply": "2023-04-20T03:10:36.354990Z"
    },
    "papermill": {
     "duration": 44.949944,
     "end_time": "2023-04-20T03:10:36.359204",
     "exception": false,
     "start_time": "2023-04-20T03:09:51.409260",
     "status": "completed"
    },
    "tags": []
   },
   "outputs": [],
   "source": [
    "x_train_o, x_test_o, y_train_o, y_test_o = train_test_split(Features, Target, test_size=0.3,random_state=666)\n",
    "x_train = np.asarray(x_train_o.tolist())\n",
    "x_test = np.asarray(x_test_o.tolist())\n",
    "x_train_mean = np.mean(x_train)\n",
    "x_train_std = np.std(x_train)\n",
    "x_test_mean = np.mean(x_test)\n",
    "x_test_std = np.std(x_test)\n",
    "x_train = (x_train - x_train_mean)/x_train_std\n",
    "x_test = (x_test - x_test_mean)/x_test_std"
   ]
  },
  {
   "cell_type": "code",
   "execution_count": 28,
   "id": "c6322592",
   "metadata": {
    "execution": {
     "iopub.execute_input": "2023-04-20T03:10:37.311738Z",
     "iopub.status.busy": "2023-04-20T03:10:37.311318Z",
     "iopub.status.idle": "2023-04-20T03:10:37.537213Z",
     "shell.execute_reply": "2023-04-20T03:10:37.536130Z"
    },
    "papermill": {
     "duration": 0.733977,
     "end_time": "2023-04-20T03:10:37.540547",
     "exception": false,
     "start_time": "2023-04-20T03:10:36.806570",
     "status": "completed"
    },
    "tags": []
   },
   "outputs": [],
   "source": [
    "label_encoder = LabelEncoder()\n",
    "y_train_o = label_encoder.fit_transform(y_train_o)\n",
    "y_test_o = label_encoder.transform(y_test_o)\n",
    "y_train = to_categorical(y_train_o, num_classes = 5)\n",
    "y_test = to_categorical(y_test_o, num_classes = 5)\n",
    "x_train, x_validate, y_train, y_validate = train_test_split(x_train, y_train, test_size = 0.2, random_state = 999, stratify=y_train)"
   ]
  },
  {
   "cell_type": "code",
   "execution_count": 29,
   "id": "1c91f5f8",
   "metadata": {
    "execution": {
     "iopub.execute_input": "2023-04-20T03:10:38.377026Z",
     "iopub.status.busy": "2023-04-20T03:10:38.375929Z",
     "iopub.status.idle": "2023-04-20T03:10:38.381906Z",
     "shell.execute_reply": "2023-04-20T03:10:38.380718Z"
    },
    "papermill": {
     "duration": 0.351316,
     "end_time": "2023-04-20T03:10:38.383977",
     "exception": false,
     "start_time": "2023-04-20T03:10:38.032661",
     "status": "completed"
    },
    "tags": []
   },
   "outputs": [],
   "source": [
    "x_train = x_train.reshape(x_train.shape[0], *(100, 100, 3))\n",
    "x_test = x_test.reshape(x_test.shape[0], *(100, 100, 3))\n",
    "x_validate = x_validate.reshape(x_validate.shape[0], *(100, 100, 3))"
   ]
  },
  {
   "cell_type": "code",
   "execution_count": 30,
   "id": "61a8d668",
   "metadata": {
    "execution": {
     "iopub.execute_input": "2023-04-20T03:10:39.116014Z",
     "iopub.status.busy": "2023-04-20T03:10:39.115626Z",
     "iopub.status.idle": "2023-04-20T03:10:39.446093Z",
     "shell.execute_reply": "2023-04-20T03:10:39.444946Z"
    },
    "papermill": {
     "duration": 0.671228,
     "end_time": "2023-04-20T03:10:39.448865",
     "exception": false,
     "start_time": "2023-04-20T03:10:38.777637",
     "status": "completed"
    },
    "tags": []
   },
   "outputs": [],
   "source": [
    "num_classes = 5\n",
    "vgg_model = VGG16(weights='imagenet', include_top=False, input_shape=input_shape)\n",
    "for layer in vgg_model.layers:\n",
    "    layer.trainable = False\n",
    "x = Flatten()(vgg_model.output)\n",
    "x = Dense(256, activation='relu')(x)\n",
    "\n",
    "\n",
    "x = Dense(num_classes, activation='softmax')(x)\n",
    "model_cold = Model(inputs=vgg_model.input, outputs=x)"
   ]
  },
  {
   "cell_type": "code",
   "execution_count": 31,
   "id": "dea24ea3",
   "metadata": {
    "execution": {
     "iopub.execute_input": "2023-04-20T03:10:40.143412Z",
     "iopub.status.busy": "2023-04-20T03:10:40.143006Z",
     "iopub.status.idle": "2023-04-20T03:21:16.697569Z",
     "shell.execute_reply": "2023-04-20T03:21:16.696426Z"
    },
    "papermill": {
     "duration": 636.914959,
     "end_time": "2023-04-20T03:21:16.700581",
     "exception": false,
     "start_time": "2023-04-20T03:10:39.785622",
     "status": "completed"
    },
    "tags": []
   },
   "outputs": [
    {
     "name": "stdout",
     "output_type": "stream",
     "text": [
      "Epoch 1/100\n",
      "31/31 [==============================] - 8s 206ms/step - loss: 0.9653 - accuracy: 0.6412 - val_loss: 0.7267 - val_accuracy: 0.7356 - lr: 0.0010\n",
      "Epoch 2/100\n",
      "31/31 [==============================] - 5s 172ms/step - loss: 0.6884 - accuracy: 0.7351 - val_loss: 0.6790 - val_accuracy: 0.7336 - lr: 0.0010\n",
      "Epoch 3/100\n",
      "31/31 [==============================] - 5s 164ms/step - loss: 0.6252 - accuracy: 0.7700 - val_loss: 0.6602 - val_accuracy: 0.7396 - lr: 0.0010\n",
      "Epoch 4/100\n",
      "31/31 [==============================] - 6s 201ms/step - loss: 0.5576 - accuracy: 0.7870 - val_loss: 0.6697 - val_accuracy: 0.7594 - lr: 0.0010\n",
      "Epoch 5/100\n",
      "31/31 [==============================] - 5s 161ms/step - loss: 0.5423 - accuracy: 0.7895 - val_loss: 0.6706 - val_accuracy: 0.7416 - lr: 0.0010\n",
      "Epoch 6/100\n",
      "31/31 [==============================] - 5s 163ms/step - loss: 0.5276 - accuracy: 0.8101 - val_loss: 0.6599 - val_accuracy: 0.7614 - lr: 0.0010\n",
      "Epoch 7/100\n",
      "31/31 [==============================] - 5s 165ms/step - loss: 0.5108 - accuracy: 0.8147 - val_loss: 0.6435 - val_accuracy: 0.7694 - lr: 0.0010\n",
      "Epoch 8/100\n",
      "31/31 [==============================] - 6s 186ms/step - loss: 0.4765 - accuracy: 0.8178 - val_loss: 0.6811 - val_accuracy: 0.7455 - lr: 0.0010\n",
      "Epoch 9/100\n",
      "31/31 [==============================] - 6s 178ms/step - loss: 0.4910 - accuracy: 0.8049 - val_loss: 0.6792 - val_accuracy: 0.7435 - lr: 0.0010\n",
      "Epoch 10/100\n",
      "31/31 [==============================] - 5s 166ms/step - loss: 0.4550 - accuracy: 0.8275 - val_loss: 0.6875 - val_accuracy: 0.7416 - lr: 0.0010\n",
      "Epoch 11/100\n",
      "31/31 [==============================] - 5s 166ms/step - loss: 0.4487 - accuracy: 0.8219 - val_loss: 0.6625 - val_accuracy: 0.7714 - lr: 0.0010\n",
      "Epoch 12/100\n",
      "31/31 [==============================] - 5s 172ms/step - loss: 0.4445 - accuracy: 0.8255 - val_loss: 0.7743 - val_accuracy: 0.7416 - lr: 0.0010\n",
      "Epoch 13/100\n",
      "31/31 [==============================] - 5s 175ms/step - loss: 0.4391 - accuracy: 0.8342 - val_loss: 0.6818 - val_accuracy: 0.7654 - lr: 0.0010\n",
      "Epoch 14/100\n",
      "31/31 [==============================] - 5s 163ms/step - loss: 0.4332 - accuracy: 0.8398 - val_loss: 0.6443 - val_accuracy: 0.7714 - lr: 0.0010\n",
      "Epoch 15/100\n",
      "31/31 [==============================] - 5s 165ms/step - loss: 0.3951 - accuracy: 0.8470 - val_loss: 0.6455 - val_accuracy: 0.7674 - lr: 0.0010\n",
      "Epoch 16/100\n",
      "31/31 [==============================] - 6s 193ms/step - loss: 0.3878 - accuracy: 0.8511 - val_loss: 0.6747 - val_accuracy: 0.7674 - lr: 0.0010\n",
      "Epoch 17/100\n",
      "31/31 [==============================] - 5s 160ms/step - loss: 0.3866 - accuracy: 0.8516 - val_loss: 0.6406 - val_accuracy: 0.7674 - lr: 0.0010\n",
      "Epoch 18/100\n",
      "31/31 [==============================] - 5s 168ms/step - loss: 0.3816 - accuracy: 0.8511 - val_loss: 0.7281 - val_accuracy: 0.7535 - lr: 0.0010\n",
      "Epoch 19/100\n",
      "31/31 [==============================] - 5s 162ms/step - loss: 0.3891 - accuracy: 0.8527 - val_loss: 0.6607 - val_accuracy: 0.7714 - lr: 0.0010\n",
      "Epoch 20/100\n",
      "31/31 [==============================] - 5s 160ms/step - loss: 0.3656 - accuracy: 0.8486 - val_loss: 0.6365 - val_accuracy: 0.7773 - lr: 0.0010\n",
      "Epoch 21/100\n",
      "31/31 [==============================] - 6s 183ms/step - loss: 0.3615 - accuracy: 0.8629 - val_loss: 0.6665 - val_accuracy: 0.7674 - lr: 0.0010\n",
      "Epoch 22/100\n",
      "31/31 [==============================] - 5s 157ms/step - loss: 0.3697 - accuracy: 0.8604 - val_loss: 0.6412 - val_accuracy: 0.7753 - lr: 0.0010\n",
      "Epoch 23/100\n",
      "31/31 [==============================] - 5s 159ms/step - loss: 0.3583 - accuracy: 0.8696 - val_loss: 0.6443 - val_accuracy: 0.7694 - lr: 0.0010\n",
      "Epoch 24/100\n",
      "31/31 [==============================] - 5s 166ms/step - loss: 0.3332 - accuracy: 0.8686 - val_loss: 0.7112 - val_accuracy: 0.7575 - lr: 0.0010\n",
      "Epoch 25/100\n",
      "31/31 [==============================] - 5s 160ms/step - loss: 0.3413 - accuracy: 0.8640 - val_loss: 0.6539 - val_accuracy: 0.7734 - lr: 0.0010\n",
      "Epoch 26/100\n",
      "31/31 [==============================] - 5s 159ms/step - loss: 0.3336 - accuracy: 0.8686 - val_loss: 0.7069 - val_accuracy: 0.7753 - lr: 0.0010\n",
      "Epoch 27/100\n",
      "31/31 [==============================] - 6s 174ms/step - loss: 0.3345 - accuracy: 0.8727 - val_loss: 0.6873 - val_accuracy: 0.7515 - lr: 0.0010\n",
      "Epoch 28/100\n",
      "31/31 [==============================] - 5s 172ms/step - loss: 0.3163 - accuracy: 0.8763 - val_loss: 0.6666 - val_accuracy: 0.7753 - lr: 0.0010\n",
      "Epoch 29/100\n",
      "31/31 [==============================] - 5s 158ms/step - loss: 0.3122 - accuracy: 0.8804 - val_loss: 0.6986 - val_accuracy: 0.7694 - lr: 0.0010\n",
      "Epoch 30/100\n",
      "31/31 [==============================] - 5s 156ms/step - loss: 0.3015 - accuracy: 0.8794 - val_loss: 0.6447 - val_accuracy: 0.7813 - lr: 0.0010\n",
      "Epoch 31/100\n",
      "31/31 [==============================] - 5s 158ms/step - loss: 0.2894 - accuracy: 0.8896 - val_loss: 0.6556 - val_accuracy: 0.7714 - lr: 0.0010\n",
      "Epoch 32/100\n",
      "31/31 [==============================] - 5s 169ms/step - loss: 0.2999 - accuracy: 0.8860 - val_loss: 0.6406 - val_accuracy: 0.7694 - lr: 0.0010\n",
      "Epoch 33/100\n",
      "31/31 [==============================] - 5s 176ms/step - loss: 0.3117 - accuracy: 0.8768 - val_loss: 0.7575 - val_accuracy: 0.7555 - lr: 0.0010\n",
      "Epoch 34/100\n",
      "31/31 [==============================] - 5s 161ms/step - loss: 0.2908 - accuracy: 0.8881 - val_loss: 0.7052 - val_accuracy: 0.7773 - lr: 0.0010\n",
      "Epoch 35/100\n",
      "31/31 [==============================] - 5s 162ms/step - loss: 0.2853 - accuracy: 0.8896 - val_loss: 0.6552 - val_accuracy: 0.7694 - lr: 0.0010\n",
      "Epoch 36/100\n",
      "31/31 [==============================] - 5s 158ms/step - loss: 0.2973 - accuracy: 0.8830 - val_loss: 0.6824 - val_accuracy: 0.7773 - lr: 0.0010\n",
      "Epoch 37/100\n",
      "31/31 [==============================] - 5s 168ms/step - loss: 0.3085 - accuracy: 0.8824 - val_loss: 0.7856 - val_accuracy: 0.7515 - lr: 0.0010\n",
      "Epoch 38/100\n",
      "31/31 [==============================] - 5s 169ms/step - loss: 0.2808 - accuracy: 0.8901 - val_loss: 0.6968 - val_accuracy: 0.7734 - lr: 0.0010\n",
      "Epoch 39/100\n",
      "31/31 [==============================] - 5s 167ms/step - loss: 0.2678 - accuracy: 0.9020 - val_loss: 0.6525 - val_accuracy: 0.7753 - lr: 0.0010\n",
      "Epoch 40/100\n",
      "31/31 [==============================] - 5s 159ms/step - loss: 0.2513 - accuracy: 0.9076 - val_loss: 0.7001 - val_accuracy: 0.7475 - lr: 0.0010\n",
      "Epoch 41/100\n",
      "31/31 [==============================] - 5s 163ms/step - loss: 0.2419 - accuracy: 0.9071 - val_loss: 0.7682 - val_accuracy: 0.7614 - lr: 0.0010\n",
      "Epoch 42/100\n",
      "31/31 [==============================] - 5s 158ms/step - loss: 0.2597 - accuracy: 0.8948 - val_loss: 0.6916 - val_accuracy: 0.7753 - lr: 0.0010\n",
      "Epoch 43/100\n",
      "31/31 [==============================] - 5s 166ms/step - loss: 0.2553 - accuracy: 0.9020 - val_loss: 0.6735 - val_accuracy: 0.7694 - lr: 0.0010\n",
      "Epoch 44/100\n",
      "31/31 [==============================] - 6s 185ms/step - loss: 0.2486 - accuracy: 0.9020 - val_loss: 0.7445 - val_accuracy: 0.7555 - lr: 0.0010\n",
      "Epoch 45/100\n",
      "31/31 [==============================] - 5s 156ms/step - loss: 0.2510 - accuracy: 0.9035 - val_loss: 0.7742 - val_accuracy: 0.7634 - lr: 0.0010\n",
      "Epoch 46/100\n",
      "31/31 [==============================] - 5s 158ms/step - loss: 0.2488 - accuracy: 0.9050 - val_loss: 0.7487 - val_accuracy: 0.7515 - lr: 0.0010\n",
      "Epoch 47/100\n",
      "31/31 [==============================] - 5s 157ms/step - loss: 0.2237 - accuracy: 0.9097 - val_loss: 0.7728 - val_accuracy: 0.7654 - lr: 0.0010\n",
      "Epoch 48/100\n",
      "31/31 [==============================] - 5s 167ms/step - loss: 0.2278 - accuracy: 0.9158 - val_loss: 0.8026 - val_accuracy: 0.7654 - lr: 0.0010\n",
      "Epoch 49/100\n",
      "31/31 [==============================] - 5s 159ms/step - loss: 0.2250 - accuracy: 0.9127 - val_loss: 0.7338 - val_accuracy: 0.7773 - lr: 0.0010\n",
      "Epoch 50/100\n",
      "31/31 [==============================] - 5s 160ms/step - loss: 0.2086 - accuracy: 0.9143 - val_loss: 0.7382 - val_accuracy: 0.7793 - lr: 0.0010\n",
      "Epoch 51/100\n",
      "31/31 [==============================] - 5s 159ms/step - loss: 0.2284 - accuracy: 0.9103 - val_loss: 0.7620 - val_accuracy: 0.7734 - lr: 0.0010\n",
      "Epoch 52/100\n",
      "31/31 [==============================] - 5s 173ms/step - loss: 0.2201 - accuracy: 0.9153 - val_loss: 0.7039 - val_accuracy: 0.7634 - lr: 0.0010\n",
      "Epoch 53/100\n",
      "31/31 [==============================] - 6s 186ms/step - loss: 0.2202 - accuracy: 0.9158 - val_loss: 0.7462 - val_accuracy: 0.7753 - lr: 0.0010\n",
      "Epoch 54/100\n",
      "31/31 [==============================] - 5s 160ms/step - loss: 0.2268 - accuracy: 0.9220 - val_loss: 0.7483 - val_accuracy: 0.7833 - lr: 0.0010\n",
      "Epoch 55/100\n",
      "31/31 [==============================] - 5s 161ms/step - loss: 0.2105 - accuracy: 0.9235 - val_loss: 0.7746 - val_accuracy: 0.7793 - lr: 0.0010\n",
      "Epoch 56/100\n",
      "31/31 [==============================] - 5s 155ms/step - loss: 0.2279 - accuracy: 0.9127 - val_loss: 0.7006 - val_accuracy: 0.7893 - lr: 0.0010\n",
      "Epoch 57/100\n",
      "31/31 [==============================] - 5s 159ms/step - loss: 0.2026 - accuracy: 0.9271 - val_loss: 0.7435 - val_accuracy: 0.7694 - lr: 0.0010\n",
      "Epoch 58/100\n",
      "31/31 [==============================] - 5s 156ms/step - loss: 0.1967 - accuracy: 0.9271 - val_loss: 0.7319 - val_accuracy: 0.7952 - lr: 0.0010\n",
      "Epoch 59/100\n",
      "31/31 [==============================] - 6s 192ms/step - loss: 0.1910 - accuracy: 0.9220 - val_loss: 0.7758 - val_accuracy: 0.7853 - lr: 0.0010\n",
      "Epoch 60/100\n",
      "31/31 [==============================] - 5s 157ms/step - loss: 0.1951 - accuracy: 0.9245 - val_loss: 0.8247 - val_accuracy: 0.7674 - lr: 0.0010\n",
      "Epoch 61/100\n",
      "31/31 [==============================] - 5s 163ms/step - loss: 0.2149 - accuracy: 0.9194 - val_loss: 0.7863 - val_accuracy: 0.7853 - lr: 0.0010\n",
      "Epoch 62/100\n",
      "31/31 [==============================] - 5s 158ms/step - loss: 0.1936 - accuracy: 0.9261 - val_loss: 0.7710 - val_accuracy: 0.7773 - lr: 0.0010\n",
      "Epoch 63/100\n",
      "31/31 [==============================] - 5s 166ms/step - loss: 0.1875 - accuracy: 0.9333 - val_loss: 0.7543 - val_accuracy: 0.7753 - lr: 0.0010\n",
      "Epoch 64/100\n",
      "31/31 [==============================] - 5s 167ms/step - loss: 0.1895 - accuracy: 0.9245 - val_loss: 0.7477 - val_accuracy: 0.7614 - lr: 0.0010\n",
      "Epoch 65/100\n",
      "31/31 [==============================] - 6s 178ms/step - loss: 0.1867 - accuracy: 0.9312 - val_loss: 0.7629 - val_accuracy: 0.7654 - lr: 0.0010\n",
      "Epoch 66/100\n",
      "31/31 [==============================] - 5s 159ms/step - loss: 0.1743 - accuracy: 0.9348 - val_loss: 0.7664 - val_accuracy: 0.7674 - lr: 0.0010\n",
      "Epoch 67/100\n",
      "31/31 [==============================] - 5s 162ms/step - loss: 0.1596 - accuracy: 0.9440 - val_loss: 0.7449 - val_accuracy: 0.7773 - lr: 0.0010\n",
      "Epoch 68/100\n",
      "31/31 [==============================] - 5s 167ms/step - loss: 0.1747 - accuracy: 0.9240 - val_loss: 0.7387 - val_accuracy: 0.7813 - lr: 0.0010\n",
      "Epoch 69/100\n",
      "31/31 [==============================] - 5s 166ms/step - loss: 0.1770 - accuracy: 0.9338 - val_loss: 0.7401 - val_accuracy: 0.7753 - lr: 0.0010\n",
      "Epoch 70/100\n",
      "31/31 [==============================] - 5s 177ms/step - loss: 0.1666 - accuracy: 0.9363 - val_loss: 0.8285 - val_accuracy: 0.7674 - lr: 0.0010\n",
      "Epoch 71/100\n",
      "31/31 [==============================] - 5s 159ms/step - loss: 0.1635 - accuracy: 0.9374 - val_loss: 0.7575 - val_accuracy: 0.7913 - lr: 0.0010\n",
      "Epoch 72/100\n",
      "31/31 [==============================] - 5s 165ms/step - loss: 0.1789 - accuracy: 0.9353 - val_loss: 0.7550 - val_accuracy: 0.7813 - lr: 0.0010\n",
      "Epoch 73/100\n",
      "31/31 [==============================] - 5s 160ms/step - loss: 0.1634 - accuracy: 0.9384 - val_loss: 0.7692 - val_accuracy: 0.7833 - lr: 0.0010\n",
      "Epoch 74/100\n",
      "31/31 [==============================] - 5s 174ms/step - loss: 0.1763 - accuracy: 0.9363 - val_loss: 0.8314 - val_accuracy: 0.7833 - lr: 0.0010\n",
      "Epoch 75/100\n",
      "31/31 [==============================] - 6s 188ms/step - loss: 0.1772 - accuracy: 0.9302 - val_loss: 0.8174 - val_accuracy: 0.7753 - lr: 0.0010\n",
      "Epoch 76/100\n",
      "31/31 [==============================] - 5s 161ms/step - loss: 0.1413 - accuracy: 0.9487 - val_loss: 0.7863 - val_accuracy: 0.7773 - lr: 0.0010\n",
      "Epoch 77/100\n",
      "31/31 [==============================] - 5s 158ms/step - loss: 0.1628 - accuracy: 0.9374 - val_loss: 0.8197 - val_accuracy: 0.7773 - lr: 0.0010\n",
      "Epoch 78/100\n",
      "31/31 [==============================] - 5s 160ms/step - loss: 0.1678 - accuracy: 0.9389 - val_loss: 0.7912 - val_accuracy: 0.7813 - lr: 0.0010\n",
      "Epoch 79/100\n",
      "31/31 [==============================] - 5s 162ms/step - loss: 0.1545 - accuracy: 0.9399 - val_loss: 0.8244 - val_accuracy: 0.7734 - lr: 0.0010\n",
      "Epoch 80/100\n",
      "31/31 [==============================] - 5s 174ms/step - loss: 0.1650 - accuracy: 0.9374 - val_loss: 0.8548 - val_accuracy: 0.7734 - lr: 0.0010\n",
      "Epoch 81/100\n",
      "31/31 [==============================] - 6s 181ms/step - loss: 0.1440 - accuracy: 0.9399 - val_loss: 0.9775 - val_accuracy: 0.7515 - lr: 0.0010\n",
      "Epoch 82/100\n",
      "31/31 [==============================] - 5s 160ms/step - loss: 0.1703 - accuracy: 0.9322 - val_loss: 0.9214 - val_accuracy: 0.7614 - lr: 0.0010\n",
      "Epoch 83/100\n",
      "31/31 [==============================] - 5s 168ms/step - loss: 0.1780 - accuracy: 0.9279 - val_loss: 0.8164 - val_accuracy: 0.7913 - lr: 0.0010\n",
      "Epoch 84/100\n",
      "31/31 [==============================] - 5s 170ms/step - loss: 0.1617 - accuracy: 0.9435 - val_loss: 0.7869 - val_accuracy: 0.7654 - lr: 0.0010\n",
      "Epoch 85/100\n",
      "31/31 [==============================] - 5s 175ms/step - loss: 0.1458 - accuracy: 0.9451 - val_loss: 0.8905 - val_accuracy: 0.7893 - lr: 0.0010\n",
      "Epoch 86/100\n",
      "31/31 [==============================] - 5s 169ms/step - loss: 0.1703 - accuracy: 0.9384 - val_loss: 0.8058 - val_accuracy: 0.7773 - lr: 0.0010\n",
      "Epoch 87/100\n",
      "31/31 [==============================] - 5s 156ms/step - loss: 0.1583 - accuracy: 0.9440 - val_loss: 0.8926 - val_accuracy: 0.7773 - lr: 0.0010\n",
      "Epoch 88/100\n",
      "31/31 [==============================] - 5s 156ms/step - loss: 0.1574 - accuracy: 0.9430 - val_loss: 0.8447 - val_accuracy: 0.7674 - lr: 0.0010\n",
      "Epoch 89/100\n",
      "31/31 [==============================] - 5s 160ms/step - loss: 0.1570 - accuracy: 0.9410 - val_loss: 0.7885 - val_accuracy: 0.7893 - lr: 0.0010\n",
      "Epoch 90/100\n",
      "31/31 [==============================] - 5s 167ms/step - loss: 0.1500 - accuracy: 0.9415 - val_loss: 0.8032 - val_accuracy: 0.7694 - lr: 0.0010\n",
      "Epoch 91/100\n",
      "31/31 [==============================] - 5s 169ms/step - loss: 0.1441 - accuracy: 0.9456 - val_loss: 0.8522 - val_accuracy: 0.7753 - lr: 0.0010\n",
      "Epoch 92/100\n",
      "31/31 [==============================] - 5s 163ms/step - loss: 0.1297 - accuracy: 0.9502 - val_loss: 0.8902 - val_accuracy: 0.7833 - lr: 0.0010\n",
      "Epoch 93/100\n",
      "31/31 [==============================] - 5s 162ms/step - loss: 0.1424 - accuracy: 0.9476 - val_loss: 0.8319 - val_accuracy: 0.7833 - lr: 0.0010\n",
      "Epoch 94/100\n",
      "31/31 [==============================] - 5s 166ms/step - loss: 0.1317 - accuracy: 0.9528 - val_loss: 0.8513 - val_accuracy: 0.7793 - lr: 0.0010\n",
      "Epoch 95/100\n",
      "31/31 [==============================] - 5s 158ms/step - loss: 0.1107 - accuracy: 0.9589 - val_loss: 0.8739 - val_accuracy: 0.7714 - lr: 0.0010\n",
      "Epoch 96/100\n",
      "31/31 [==============================] - 5s 158ms/step - loss: 0.1228 - accuracy: 0.9538 - val_loss: 0.8489 - val_accuracy: 0.7932 - lr: 0.0010\n",
      "Epoch 97/100\n",
      "31/31 [==============================] - 5s 155ms/step - loss: 0.1244 - accuracy: 0.9517 - val_loss: 0.8686 - val_accuracy: 0.7753 - lr: 0.0010\n",
      "Epoch 98/100\n",
      "31/31 [==============================] - 5s 160ms/step - loss: 0.1363 - accuracy: 0.9481 - val_loss: 0.8427 - val_accuracy: 0.7753 - lr: 0.0010\n",
      "Epoch 99/100\n",
      "31/31 [==============================] - 5s 169ms/step - loss: 0.1307 - accuracy: 0.9482 - val_loss: 0.8887 - val_accuracy: 0.7793 - lr: 0.0010\n",
      "Epoch 100/100\n",
      "31/31 [==============================] - 6s 178ms/step - loss: 0.1106 - accuracy: 0.9589 - val_loss: 0.8448 - val_accuracy: 0.7952 - lr: 0.0010\n"
     ]
    }
   ],
   "source": [
    "optimizer = Adam(lr=0.01, beta_1=0.9, beta_2=0.999, epsilon=1e-8, amsgrad=False)\n",
    "learning_rate_reduction = ReduceLROnPlateau(monitor='val_acc', patience=4, verbose=1, factor=0.5, min_lr=0.00001)\n",
    "\n",
    "datagen = ImageDataGenerator(\n",
    "        featurewise_center=False, \n",
    "        samplewise_center=False, \n",
    "        featurewise_std_normalization=False,\n",
    "        samplewise_std_normalization=False,\n",
    "        zca_whitening=False,\n",
    "        rotation_range=90,\n",
    "        zoom_range = 0.1, \n",
    "        width_shift_range=0.1,\n",
    "        height_shift_range=0.1,\n",
    "        horizontal_flip=True,\n",
    "        vertical_flip=True,\n",
    "        shear_range = 10) \n",
    "datagen.fit(x_train)\n",
    "\n",
    "model_cold.compile(optimizer = optimizer , loss = \"categorical_crossentropy\", metrics=[\"accuracy\"])\n",
    "history = model_cold.fit(datagen.flow(x_train,y_train, batch_size=64),\n",
    "                              epochs = 100, validation_data = (x_validate,y_validate),\n",
    "                              verbose = 1, steps_per_epoch=x_train.shape[0] // 64\n",
    "                              , callbacks=[learning_rate_reduction])"
   ]
  },
  {
   "cell_type": "code",
   "execution_count": 32,
   "id": "c7195d5a",
   "metadata": {
    "execution": {
     "iopub.execute_input": "2023-04-20T03:21:17.749656Z",
     "iopub.status.busy": "2023-04-20T03:21:17.749296Z",
     "iopub.status.idle": "2023-04-20T03:21:21.487671Z",
     "shell.execute_reply": "2023-04-20T03:21:21.486626Z"
    },
    "papermill": {
     "duration": 4.265579,
     "end_time": "2023-04-20T03:21:21.490051",
     "exception": false,
     "start_time": "2023-04-20T03:21:17.224472",
     "status": "completed"
    },
    "tags": []
   },
   "outputs": [
    {
     "name": "stdout",
     "output_type": "stream",
     "text": [
      "Training: accuracy = 0.944334\n",
      "Validation: accuracy = 0.795229\n",
      "Test: accuracy = 0.813544\n"
     ]
    }
   ],
   "source": [
    "Accuracies(model_cold, x_train, x_validate, x_test, y_train, y_validate ,y_test)"
   ]
  },
  {
   "cell_type": "code",
   "execution_count": 33,
   "id": "f260d8da",
   "metadata": {
    "execution": {
     "iopub.execute_input": "2023-04-20T03:21:22.579986Z",
     "iopub.status.busy": "2023-04-20T03:21:22.579017Z",
     "iopub.status.idle": "2023-04-20T03:21:23.981805Z",
     "shell.execute_reply": "2023-04-20T03:21:23.980777Z"
    },
    "papermill": {
     "duration": 1.920024,
     "end_time": "2023-04-20T03:21:23.984110",
     "exception": false,
     "start_time": "2023-04-20T03:21:22.064086",
     "status": "completed"
    },
    "tags": []
   },
   "outputs": [
    {
     "name": "stdout",
     "output_type": "stream",
     "text": [
      "34/34 [==============================] - 1s 17ms/step\n"
     ]
    },
    {
     "data": {
      "image/png": "[encoded data removed]",
      "text/plain": [
       "<Figure size 1200x600 with 2 Axes>"
      ]
     },
     "metadata": {},
     "output_type": "display_data"
    }
   ],
   "source": [
    "ConfusionMatrix(model_cold, x_test, y_test, label_encoder)"
   ]
  },
  {
   "cell_type": "code",
   "execution_count": 34,
   "id": "9c8ced7c",
   "metadata": {
    "execution": {
     "iopub.execute_input": "2023-04-20T03:21:25.061999Z",
     "iopub.status.busy": "2023-04-20T03:21:25.061591Z",
     "iopub.status.idle": "2023-04-20T03:21:26.040593Z",
     "shell.execute_reply": "2023-04-20T03:21:26.039503Z"
    },
    "papermill": {
     "duration": 1.549278,
     "end_time": "2023-04-20T03:21:26.042995",
     "exception": false,
     "start_time": "2023-04-20T03:21:24.493717",
     "status": "completed"
    },
    "tags": []
   },
   "outputs": [
    {
     "name": "stdout",
     "output_type": "stream",
     "text": [
      "34/34 [==============================] - 1s 16ms/step\n",
      "              precision    recall  f1-score   support\n",
      "\n",
      "           0       0.94      0.88      0.91       207\n",
      "           1       0.67      0.79      0.72       140\n",
      "           2       0.71      0.70      0.70       171\n",
      "           3       0.84      0.88      0.86       360\n",
      "           4       0.85      0.73      0.79       200\n",
      "\n",
      "    accuracy                           0.81      1078\n",
      "   macro avg       0.80      0.80      0.80      1078\n",
      "weighted avg       0.82      0.81      0.81      1078\n",
      "\n"
     ]
    }
   ],
   "source": [
    "ClassificationReport(model_cold, x_test, y_test)"
   ]
  },
  {
   "cell_type": "code",
   "execution_count": 35,
   "id": "ea50c5b6",
   "metadata": {
    "execution": {
     "iopub.execute_input": "2023-04-20T03:21:27.070800Z",
     "iopub.status.busy": "2023-04-20T03:21:27.070435Z",
     "iopub.status.idle": "2023-04-20T03:21:27.076954Z",
     "shell.execute_reply": "2023-04-20T03:21:27.076008Z"
    },
    "papermill": {
     "duration": 0.524851,
     "end_time": "2023-04-20T03:21:27.078987",
     "exception": false,
     "start_time": "2023-04-20T03:21:26.554136",
     "status": "completed"
    },
    "tags": []
   },
   "outputs": [],
   "source": [
    "Target = WeatherData_Cold['SPHD']\n",
    "num_classes = 2"
   ]
  },
  {
   "cell_type": "code",
   "execution_count": 36,
   "id": "8cbb5fdc",
   "metadata": {
    "execution": {
     "iopub.execute_input": "2023-04-20T03:21:28.161524Z",
     "iopub.status.busy": "2023-04-20T03:21:28.161154Z",
     "iopub.status.idle": "2023-04-20T03:22:12.616121Z",
     "shell.execute_reply": "2023-04-20T03:22:12.615018Z"
    },
    "papermill": {
     "duration": 44.974242,
     "end_time": "2023-04-20T03:22:12.618804",
     "exception": false,
     "start_time": "2023-04-20T03:21:27.644562",
     "status": "completed"
    },
    "tags": []
   },
   "outputs": [],
   "source": [
    "x_train_o, x_test_o, y_train_o, y_test_o = train_test_split(Features, Target, test_size=0.3,random_state=666)\n",
    "x_train = np.asarray(x_train_o.tolist())\n",
    "x_test = np.asarray(x_test_o.tolist())\n",
    "x_train_mean = np.mean(x_train)\n",
    "x_train_std = np.std(x_train)\n",
    "x_test_mean = np.mean(x_test)\n",
    "x_test_std = np.std(x_test)\n",
    "x_train = (x_train - x_train_mean)/x_train_std\n",
    "x_test = (x_test - x_test_mean)/x_test_std"
   ]
  },
  {
   "cell_type": "code",
   "execution_count": 37,
   "id": "944ffb94",
   "metadata": {
    "execution": {
     "iopub.execute_input": "2023-04-20T03:22:13.807813Z",
     "iopub.status.busy": "2023-04-20T03:22:13.806776Z",
     "iopub.status.idle": "2023-04-20T03:22:13.991979Z",
     "shell.execute_reply": "2023-04-20T03:22:13.990884Z"
    },
    "papermill": {
     "duration": 0.80368,
     "end_time": "2023-04-20T03:22:13.994710",
     "exception": false,
     "start_time": "2023-04-20T03:22:13.191030",
     "status": "completed"
    },
    "tags": []
   },
   "outputs": [],
   "source": [
    "label_encoder = LabelEncoder()\n",
    "y_train_o = label_encoder.fit_transform(y_train_o)\n",
    "y_test_o = label_encoder.transform(y_test_o)\n",
    "y_train = to_categorical(y_train_o, num_classes = 2)\n",
    "y_test = to_categorical(y_test_o, num_classes = 2)\n",
    "x_train, x_validate, y_train, y_validate = train_test_split(x_train, y_train, test_size = 0.2, random_state = 999, stratify=y_train)"
   ]
  },
  {
   "cell_type": "code",
   "execution_count": 38,
   "id": "99ed1a65",
   "metadata": {
    "execution": {
     "iopub.execute_input": "2023-04-20T03:22:15.080461Z",
     "iopub.status.busy": "2023-04-20T03:22:15.079434Z",
     "iopub.status.idle": "2023-04-20T03:22:15.085699Z",
     "shell.execute_reply": "2023-04-20T03:22:15.084706Z"
    },
    "papermill": {
     "duration": 0.580116,
     "end_time": "2023-04-20T03:22:15.087892",
     "exception": false,
     "start_time": "2023-04-20T03:22:14.507776",
     "status": "completed"
    },
    "tags": []
   },
   "outputs": [],
   "source": [
    "x_train = x_train.reshape(x_train.shape[0], *(100, 100, 3))\n",
    "x_test = x_test.reshape(x_test.shape[0], *(100, 100, 3))\n",
    "x_validate = x_validate.reshape(x_validate.shape[0], *(100, 100, 3))"
   ]
  },
  {
   "cell_type": "code",
   "execution_count": 39,
   "id": "70b59289",
   "metadata": {
    "execution": {
     "iopub.execute_input": "2023-04-20T03:22:16.116716Z",
     "iopub.status.busy": "2023-04-20T03:22:16.116345Z",
     "iopub.status.idle": "2023-04-20T03:22:16.448161Z",
     "shell.execute_reply": "2023-04-20T03:22:16.447137Z"
    },
    "papermill": {
     "duration": 0.850201,
     "end_time": "2023-04-20T03:22:16.451218",
     "exception": false,
     "start_time": "2023-04-20T03:22:15.601017",
     "status": "completed"
    },
    "tags": []
   },
   "outputs": [],
   "source": [
    "vgg_model = VGG16(weights='imagenet', include_top=False, input_shape=input_shape)\n",
    "for layer in vgg_model.layers:\n",
    "    layer.trainable = False\n",
    "x = Flatten()(vgg_model.output)\n",
    "x = Dense(256, activation='relu')(x)\n",
    "\n",
    "\n",
    "x = Dense(num_classes, activation='softmax')(x)\n",
    "model_cold_wt = Model(inputs=vgg_model.input, outputs=x)"
   ]
  },
  {
   "cell_type": "code",
   "execution_count": 40,
   "id": "7be689cc",
   "metadata": {
    "execution": {
     "iopub.execute_input": "2023-04-20T03:22:17.533738Z",
     "iopub.status.busy": "2023-04-20T03:22:17.533371Z",
     "iopub.status.idle": "2023-04-20T03:33:18.653339Z",
     "shell.execute_reply": "2023-04-20T03:33:18.652094Z"
    },
    "papermill": {
     "duration": 661.635861,
     "end_time": "2023-04-20T03:33:18.655951",
     "exception": false,
     "start_time": "2023-04-20T03:22:17.020090",
     "status": "completed"
    },
    "tags": []
   },
   "outputs": [
    {
     "name": "stdout",
     "output_type": "stream",
     "text": [
      "Epoch 1/100\n",
      "31/31 [==============================] - 7s 181ms/step - loss: 0.4687 - accuracy: 0.8296 - val_loss: 0.3016 - val_accuracy: 0.8787 - lr: 0.0010\n",
      "Epoch 2/100\n",
      "31/31 [==============================] - 5s 172ms/step - loss: 0.2734 - accuracy: 0.8860 - val_loss: 0.3096 - val_accuracy: 0.8708 - lr: 0.0010\n",
      "Epoch 3/100\n",
      "31/31 [==============================] - 5s 161ms/step - loss: 0.2646 - accuracy: 0.8881 - val_loss: 0.2988 - val_accuracy: 0.8847 - lr: 0.0010\n",
      "Epoch 4/100\n",
      "31/31 [==============================] - 6s 184ms/step - loss: 0.2638 - accuracy: 0.8886 - val_loss: 0.2877 - val_accuracy: 0.8847 - lr: 0.0010\n",
      "Epoch 5/100\n",
      "31/31 [==============================] - 6s 176ms/step - loss: 0.2490 - accuracy: 0.8953 - val_loss: 0.3529 - val_accuracy: 0.8588 - lr: 0.0010\n",
      "Epoch 6/100\n",
      "31/31 [==============================] - 5s 158ms/step - loss: 0.2272 - accuracy: 0.9055 - val_loss: 0.3294 - val_accuracy: 0.8787 - lr: 0.0010\n",
      "Epoch 7/100\n",
      "31/31 [==============================] - 5s 163ms/step - loss: 0.2161 - accuracy: 0.9097 - val_loss: 0.2959 - val_accuracy: 0.8907 - lr: 0.0010\n",
      "Epoch 8/100\n",
      "31/31 [==============================] - 5s 173ms/step - loss: 0.2171 - accuracy: 0.9148 - val_loss: 0.3204 - val_accuracy: 0.8728 - lr: 0.0010\n",
      "Epoch 9/100\n",
      "31/31 [==============================] - 5s 160ms/step - loss: 0.2111 - accuracy: 0.9086 - val_loss: 0.2836 - val_accuracy: 0.9006 - lr: 0.0010\n",
      "Epoch 10/100\n",
      "31/31 [==============================] - 6s 179ms/step - loss: 0.2175 - accuracy: 0.9107 - val_loss: 0.2615 - val_accuracy: 0.9105 - lr: 0.0010\n",
      "Epoch 11/100\n",
      "31/31 [==============================] - 5s 159ms/step - loss: 0.2001 - accuracy: 0.9138 - val_loss: 0.2777 - val_accuracy: 0.8907 - lr: 0.0010\n",
      "Epoch 12/100\n",
      "31/31 [==============================] - 5s 159ms/step - loss: 0.1876 - accuracy: 0.9204 - val_loss: 0.2549 - val_accuracy: 0.9066 - lr: 0.0010\n",
      "Epoch 13/100\n",
      "31/31 [==============================] - 5s 158ms/step - loss: 0.1956 - accuracy: 0.9179 - val_loss: 0.3643 - val_accuracy: 0.8549 - lr: 0.0010\n",
      "Epoch 14/100\n",
      "31/31 [==============================] - 5s 173ms/step - loss: 0.2056 - accuracy: 0.9143 - val_loss: 0.2529 - val_accuracy: 0.9066 - lr: 0.0010\n",
      "Epoch 15/100\n",
      "31/31 [==============================] - 5s 170ms/step - loss: 0.1821 - accuracy: 0.9312 - val_loss: 0.2706 - val_accuracy: 0.8807 - lr: 0.0010\n",
      "Epoch 16/100\n",
      "31/31 [==============================] - 5s 159ms/step - loss: 0.1709 - accuracy: 0.9333 - val_loss: 0.2829 - val_accuracy: 0.8807 - lr: 0.0010\n",
      "Epoch 17/100\n",
      "31/31 [==============================] - 5s 158ms/step - loss: 0.1750 - accuracy: 0.9281 - val_loss: 0.2565 - val_accuracy: 0.8966 - lr: 0.0010\n",
      "Epoch 18/100\n",
      "31/31 [==============================] - 5s 159ms/step - loss: 0.1693 - accuracy: 0.9292 - val_loss: 0.2600 - val_accuracy: 0.9026 - lr: 0.0010\n",
      "Epoch 19/100\n",
      "31/31 [==============================] - 5s 162ms/step - loss: 0.1656 - accuracy: 0.9333 - val_loss: 0.2557 - val_accuracy: 0.8966 - lr: 0.0010\n",
      "Epoch 20/100\n",
      "31/31 [==============================] - 5s 164ms/step - loss: 0.1613 - accuracy: 0.9343 - val_loss: 0.2388 - val_accuracy: 0.9145 - lr: 0.0010\n",
      "Epoch 21/100\n",
      "31/31 [==============================] - 5s 163ms/step - loss: 0.1536 - accuracy: 0.9358 - val_loss: 0.2466 - val_accuracy: 0.9046 - lr: 0.0010\n",
      "Epoch 22/100\n",
      "31/31 [==============================] - 5s 157ms/step - loss: 0.1509 - accuracy: 0.9369 - val_loss: 0.2500 - val_accuracy: 0.9085 - lr: 0.0010\n",
      "Epoch 23/100\n",
      "31/31 [==============================] - 5s 157ms/step - loss: 0.1492 - accuracy: 0.9348 - val_loss: 0.2709 - val_accuracy: 0.8986 - lr: 0.0010\n",
      "Epoch 24/100\n",
      "31/31 [==============================] - 5s 155ms/step - loss: 0.1402 - accuracy: 0.9466 - val_loss: 0.3645 - val_accuracy: 0.8549 - lr: 0.0010\n",
      "Epoch 25/100\n",
      "31/31 [==============================] - 5s 174ms/step - loss: 0.1530 - accuracy: 0.9374 - val_loss: 0.2383 - val_accuracy: 0.9046 - lr: 0.0010\n",
      "Epoch 26/100\n",
      "31/31 [==============================] - 5s 171ms/step - loss: 0.1384 - accuracy: 0.9548 - val_loss: 0.2422 - val_accuracy: 0.9026 - lr: 0.0010\n",
      "Epoch 27/100\n",
      "31/31 [==============================] - 5s 161ms/step - loss: 0.1328 - accuracy: 0.9446 - val_loss: 0.2448 - val_accuracy: 0.8946 - lr: 0.0010\n",
      "Epoch 28/100\n",
      "31/31 [==============================] - 5s 156ms/step - loss: 0.1366 - accuracy: 0.9476 - val_loss: 0.2277 - val_accuracy: 0.9145 - lr: 0.0010\n",
      "Epoch 29/100\n",
      "31/31 [==============================] - 6s 178ms/step - loss: 0.1236 - accuracy: 0.9466 - val_loss: 0.2383 - val_accuracy: 0.9026 - lr: 0.0010\n",
      "Epoch 30/100\n",
      "31/31 [==============================] - 5s 168ms/step - loss: 0.1240 - accuracy: 0.9574 - val_loss: 0.2343 - val_accuracy: 0.9145 - lr: 0.0010\n",
      "Epoch 31/100\n",
      "31/31 [==============================] - 5s 158ms/step - loss: 0.1289 - accuracy: 0.9476 - val_loss: 0.2642 - val_accuracy: 0.9006 - lr: 0.0010\n",
      "Epoch 32/100\n",
      "31/31 [==============================] - 5s 152ms/step - loss: 0.1317 - accuracy: 0.9487 - val_loss: 0.2414 - val_accuracy: 0.9046 - lr: 0.0010\n",
      "Epoch 33/100\n",
      "31/31 [==============================] - 5s 170ms/step - loss: 0.1166 - accuracy: 0.9564 - val_loss: 0.2313 - val_accuracy: 0.9145 - lr: 0.0010\n",
      "Epoch 34/100\n",
      "31/31 [==============================] - 5s 168ms/step - loss: 0.1221 - accuracy: 0.9482 - val_loss: 0.2578 - val_accuracy: 0.9085 - lr: 0.0010\n",
      "Epoch 35/100\n",
      "31/31 [==============================] - 5s 155ms/step - loss: 0.1118 - accuracy: 0.9548 - val_loss: 0.2332 - val_accuracy: 0.9205 - lr: 0.0010\n",
      "Epoch 36/100\n",
      "31/31 [==============================] - 5s 158ms/step - loss: 0.1235 - accuracy: 0.9517 - val_loss: 0.2315 - val_accuracy: 0.9145 - lr: 0.0010\n",
      "Epoch 37/100\n",
      "31/31 [==============================] - 5s 160ms/step - loss: 0.1153 - accuracy: 0.9517 - val_loss: 0.2472 - val_accuracy: 0.8986 - lr: 0.0010\n",
      "Epoch 38/100\n",
      "31/31 [==============================] - 5s 161ms/step - loss: 0.1048 - accuracy: 0.9625 - val_loss: 0.2543 - val_accuracy: 0.9046 - lr: 0.0010\n",
      "Epoch 39/100\n",
      "31/31 [==============================] - 5s 167ms/step - loss: 0.1089 - accuracy: 0.9587 - val_loss: 0.2382 - val_accuracy: 0.9066 - lr: 0.0010\n",
      "Epoch 40/100\n",
      "31/31 [==============================] - 5s 170ms/step - loss: 0.1111 - accuracy: 0.9528 - val_loss: 0.2200 - val_accuracy: 0.9085 - lr: 0.0010\n",
      "Epoch 41/100\n",
      "31/31 [==============================] - 5s 153ms/step - loss: 0.0933 - accuracy: 0.9594 - val_loss: 0.3068 - val_accuracy: 0.8787 - lr: 0.0010\n",
      "Epoch 42/100\n",
      "31/31 [==============================] - 5s 171ms/step - loss: 0.1205 - accuracy: 0.9492 - val_loss: 0.2307 - val_accuracy: 0.9085 - lr: 0.0010\n",
      "Epoch 43/100\n",
      "31/31 [==============================] - 6s 180ms/step - loss: 0.0885 - accuracy: 0.9656 - val_loss: 0.2744 - val_accuracy: 0.9185 - lr: 0.0010\n",
      "Epoch 44/100\n",
      "31/31 [==============================] - 5s 156ms/step - loss: 0.1059 - accuracy: 0.9589 - val_loss: 0.2707 - val_accuracy: 0.9026 - lr: 0.0010\n",
      "Epoch 45/100\n",
      "31/31 [==============================] - 5s 171ms/step - loss: 0.0986 - accuracy: 0.9620 - val_loss: 0.2560 - val_accuracy: 0.9066 - lr: 0.0010\n",
      "Epoch 46/100\n",
      "31/31 [==============================] - 5s 158ms/step - loss: 0.0912 - accuracy: 0.9666 - val_loss: 0.2589 - val_accuracy: 0.9085 - lr: 0.0010\n",
      "Epoch 47/100\n",
      "31/31 [==============================] - 5s 166ms/step - loss: 0.0973 - accuracy: 0.9579 - val_loss: 0.2497 - val_accuracy: 0.9085 - lr: 0.0010\n",
      "Epoch 48/100\n",
      "31/31 [==============================] - 5s 157ms/step - loss: 0.0861 - accuracy: 0.9666 - val_loss: 0.2291 - val_accuracy: 0.9225 - lr: 0.0010\n",
      "Epoch 49/100\n",
      "31/31 [==============================] - 5s 169ms/step - loss: 0.0962 - accuracy: 0.9584 - val_loss: 0.2905 - val_accuracy: 0.9125 - lr: 0.0010\n",
      "Epoch 50/100\n",
      "31/31 [==============================] - 5s 161ms/step - loss: 0.0949 - accuracy: 0.9600 - val_loss: 0.2375 - val_accuracy: 0.9205 - lr: 0.0010\n",
      "Epoch 51/100\n",
      "31/31 [==============================] - 5s 169ms/step - loss: 0.0918 - accuracy: 0.9651 - val_loss: 0.2677 - val_accuracy: 0.9085 - lr: 0.0010\n",
      "Epoch 52/100\n",
      "31/31 [==============================] - 5s 157ms/step - loss: 0.0820 - accuracy: 0.9702 - val_loss: 0.3099 - val_accuracy: 0.8887 - lr: 0.0010\n",
      "Epoch 53/100\n",
      "31/31 [==============================] - 5s 161ms/step - loss: 0.0903 - accuracy: 0.9625 - val_loss: 0.3128 - val_accuracy: 0.8867 - lr: 0.0010\n",
      "Epoch 54/100\n",
      "31/31 [==============================] - 5s 156ms/step - loss: 0.0838 - accuracy: 0.9677 - val_loss: 0.3171 - val_accuracy: 0.8767 - lr: 0.0010\n",
      "Epoch 55/100\n",
      "31/31 [==============================] - 5s 176ms/step - loss: 0.0752 - accuracy: 0.9723 - val_loss: 0.2544 - val_accuracy: 0.8966 - lr: 0.0010\n",
      "Epoch 56/100\n",
      "31/31 [==============================] - 6s 186ms/step - loss: 0.0818 - accuracy: 0.9708 - val_loss: 0.2802 - val_accuracy: 0.8986 - lr: 0.0010\n",
      "Epoch 57/100\n",
      "31/31 [==============================] - 5s 161ms/step - loss: 0.0651 - accuracy: 0.9743 - val_loss: 0.3023 - val_accuracy: 0.8907 - lr: 0.0010\n",
      "Epoch 58/100\n",
      "31/31 [==============================] - 5s 167ms/step - loss: 0.0671 - accuracy: 0.9759 - val_loss: 0.2925 - val_accuracy: 0.9105 - lr: 0.0010\n",
      "Epoch 59/100\n",
      "31/31 [==============================] - 6s 188ms/step - loss: 0.0739 - accuracy: 0.9713 - val_loss: 0.2868 - val_accuracy: 0.8966 - lr: 0.0010\n",
      "Epoch 60/100\n",
      "31/31 [==============================] - 5s 160ms/step - loss: 0.0732 - accuracy: 0.9718 - val_loss: 0.3070 - val_accuracy: 0.8926 - lr: 0.0010\n",
      "Epoch 61/100\n",
      "31/31 [==============================] - 5s 170ms/step - loss: 0.0721 - accuracy: 0.9707 - val_loss: 0.3147 - val_accuracy: 0.8966 - lr: 0.0010\n",
      "Epoch 62/100\n",
      "31/31 [==============================] - 5s 159ms/step - loss: 0.0765 - accuracy: 0.9738 - val_loss: 0.3028 - val_accuracy: 0.8907 - lr: 0.0010\n",
      "Epoch 63/100\n",
      "31/31 [==============================] - 5s 159ms/step - loss: 0.0711 - accuracy: 0.9713 - val_loss: 0.2526 - val_accuracy: 0.9125 - lr: 0.0010\n",
      "Epoch 64/100\n",
      "31/31 [==============================] - 5s 160ms/step - loss: 0.0744 - accuracy: 0.9697 - val_loss: 0.3152 - val_accuracy: 0.8887 - lr: 0.0010\n",
      "Epoch 65/100\n",
      "31/31 [==============================] - 5s 174ms/step - loss: 0.0741 - accuracy: 0.9707 - val_loss: 0.2783 - val_accuracy: 0.9006 - lr: 0.0010\n",
      "Epoch 66/100\n",
      "31/31 [==============================] - 5s 162ms/step - loss: 0.0576 - accuracy: 0.9783 - val_loss: 0.2816 - val_accuracy: 0.9085 - lr: 0.0010\n",
      "Epoch 67/100\n",
      "31/31 [==============================] - 5s 169ms/step - loss: 0.0735 - accuracy: 0.9707 - val_loss: 0.3302 - val_accuracy: 0.8926 - lr: 0.0010\n",
      "Epoch 68/100\n",
      "31/31 [==============================] - 5s 160ms/step - loss: 0.0668 - accuracy: 0.9738 - val_loss: 0.2866 - val_accuracy: 0.9006 - lr: 0.0010\n",
      "Epoch 69/100\n",
      "31/31 [==============================] - 5s 159ms/step - loss: 0.0850 - accuracy: 0.9636 - val_loss: 0.2999 - val_accuracy: 0.9066 - lr: 0.0010\n",
      "Epoch 70/100\n",
      "31/31 [==============================] - 5s 166ms/step - loss: 0.0783 - accuracy: 0.9702 - val_loss: 0.2649 - val_accuracy: 0.9006 - lr: 0.0010\n",
      "Epoch 71/100\n",
      "31/31 [==============================] - 5s 176ms/step - loss: 0.0681 - accuracy: 0.9754 - val_loss: 0.3212 - val_accuracy: 0.9085 - lr: 0.0010\n",
      "Epoch 72/100\n",
      "31/31 [==============================] - 5s 161ms/step - loss: 0.0652 - accuracy: 0.9748 - val_loss: 0.2756 - val_accuracy: 0.9046 - lr: 0.0010\n",
      "Epoch 73/100\n",
      "31/31 [==============================] - 5s 167ms/step - loss: 0.0685 - accuracy: 0.9728 - val_loss: 0.2839 - val_accuracy: 0.9145 - lr: 0.0010\n",
      "Epoch 74/100\n",
      "31/31 [==============================] - 5s 169ms/step - loss: 0.0628 - accuracy: 0.9759 - val_loss: 0.3308 - val_accuracy: 0.8966 - lr: 0.0010\n",
      "Epoch 75/100\n",
      "31/31 [==============================] - 5s 172ms/step - loss: 0.0602 - accuracy: 0.9748 - val_loss: 0.3471 - val_accuracy: 0.9066 - lr: 0.0010\n",
      "Epoch 76/100\n",
      "31/31 [==============================] - 5s 162ms/step - loss: 0.0671 - accuracy: 0.9738 - val_loss: 0.3448 - val_accuracy: 0.8907 - lr: 0.0010\n",
      "Epoch 77/100\n",
      "31/31 [==============================] - 5s 155ms/step - loss: 0.0757 - accuracy: 0.9723 - val_loss: 0.3305 - val_accuracy: 0.8946 - lr: 0.0010\n",
      "Epoch 78/100\n",
      "31/31 [==============================] - 5s 160ms/step - loss: 0.0555 - accuracy: 0.9790 - val_loss: 0.3067 - val_accuracy: 0.9066 - lr: 0.0010\n",
      "Epoch 79/100\n",
      "31/31 [==============================] - 5s 174ms/step - loss: 0.0677 - accuracy: 0.9733 - val_loss: 0.2741 - val_accuracy: 0.9125 - lr: 0.0010\n",
      "Epoch 80/100\n",
      "31/31 [==============================] - 5s 170ms/step - loss: 0.0548 - accuracy: 0.9774 - val_loss: 0.3597 - val_accuracy: 0.8887 - lr: 0.0010\n",
      "Epoch 81/100\n",
      "31/31 [==============================] - 5s 155ms/step - loss: 0.0541 - accuracy: 0.9779 - val_loss: 0.3388 - val_accuracy: 0.9066 - lr: 0.0010\n",
      "Epoch 82/100\n",
      "31/31 [==============================] - 5s 166ms/step - loss: 0.0634 - accuracy: 0.9779 - val_loss: 0.3178 - val_accuracy: 0.9105 - lr: 0.0010\n",
      "Epoch 83/100\n",
      "31/31 [==============================] - 5s 155ms/step - loss: 0.0479 - accuracy: 0.9836 - val_loss: 0.3714 - val_accuracy: 0.8847 - lr: 0.0010\n",
      "Epoch 84/100\n",
      "31/31 [==============================] - 5s 158ms/step - loss: 0.0548 - accuracy: 0.9790 - val_loss: 0.3485 - val_accuracy: 0.9225 - lr: 0.0010\n",
      "Epoch 85/100\n",
      "31/31 [==============================] - 5s 175ms/step - loss: 0.0721 - accuracy: 0.9707 - val_loss: 0.3676 - val_accuracy: 0.8946 - lr: 0.0010\n",
      "Epoch 86/100\n",
      "31/31 [==============================] - 5s 165ms/step - loss: 0.0447 - accuracy: 0.9825 - val_loss: 0.3391 - val_accuracy: 0.9046 - lr: 0.0010\n",
      "Epoch 87/100\n",
      "31/31 [==============================] - 5s 161ms/step - loss: 0.0581 - accuracy: 0.9784 - val_loss: 0.3224 - val_accuracy: 0.9205 - lr: 0.0010\n",
      "Epoch 88/100\n",
      "31/31 [==============================] - 5s 158ms/step - loss: 0.0526 - accuracy: 0.9790 - val_loss: 0.3524 - val_accuracy: 0.9046 - lr: 0.0010\n",
      "Epoch 89/100\n",
      "31/31 [==============================] - 5s 158ms/step - loss: 0.0572 - accuracy: 0.9800 - val_loss: 0.3617 - val_accuracy: 0.8966 - lr: 0.0010\n",
      "Epoch 90/100\n",
      "31/31 [==============================] - 6s 180ms/step - loss: 0.0542 - accuracy: 0.9784 - val_loss: 0.3915 - val_accuracy: 0.8827 - lr: 0.0010\n",
      "Epoch 91/100\n",
      "31/31 [==============================] - 5s 156ms/step - loss: 0.0485 - accuracy: 0.9820 - val_loss: 0.3715 - val_accuracy: 0.9125 - lr: 0.0010\n",
      "Epoch 92/100\n",
      "31/31 [==============================] - 5s 173ms/step - loss: 0.0451 - accuracy: 0.9874 - val_loss: 0.3767 - val_accuracy: 0.9125 - lr: 0.0010\n",
      "Epoch 93/100\n",
      "31/31 [==============================] - 5s 169ms/step - loss: 0.0614 - accuracy: 0.9810 - val_loss: 0.3580 - val_accuracy: 0.9125 - lr: 0.0010\n",
      "Epoch 94/100\n",
      "31/31 [==============================] - 5s 155ms/step - loss: 0.0635 - accuracy: 0.9764 - val_loss: 0.3524 - val_accuracy: 0.9185 - lr: 0.0010\n",
      "Epoch 95/100\n",
      "31/31 [==============================] - 5s 174ms/step - loss: 0.0494 - accuracy: 0.9805 - val_loss: 0.3705 - val_accuracy: 0.9026 - lr: 0.0010\n",
      "Epoch 96/100\n",
      "31/31 [==============================] - 5s 176ms/step - loss: 0.0444 - accuracy: 0.9849 - val_loss: 0.3619 - val_accuracy: 0.8986 - lr: 0.0010\n",
      "Epoch 97/100\n",
      "31/31 [==============================] - 5s 161ms/step - loss: 0.0516 - accuracy: 0.9814 - val_loss: 0.3253 - val_accuracy: 0.9066 - lr: 0.0010\n",
      "Epoch 98/100\n",
      "31/31 [==============================] - 5s 160ms/step - loss: 0.0469 - accuracy: 0.9841 - val_loss: 0.3280 - val_accuracy: 0.9066 - lr: 0.0010\n",
      "Epoch 99/100\n",
      "31/31 [==============================] - 5s 156ms/step - loss: 0.0453 - accuracy: 0.9825 - val_loss: 0.3300 - val_accuracy: 0.9026 - lr: 0.0010\n",
      "Epoch 100/100\n",
      "31/31 [==============================] - 5s 173ms/step - loss: 0.0528 - accuracy: 0.9764 - val_loss: 0.3432 - val_accuracy: 0.9185 - lr: 0.0010\n"
     ]
    }
   ],
   "source": [
    "optimizer = Adam(lr=0.01, beta_1=0.9, beta_2=0.999, epsilon=1e-8, amsgrad=False)\n",
    "learning_rate_reduction = ReduceLROnPlateau(monitor='val_acc', patience=4, verbose=1, factor=0.5, min_lr=0.00001)\n",
    "\n",
    "datagen = ImageDataGenerator(\n",
    "        featurewise_center=False, \n",
    "        samplewise_center=False, \n",
    "        featurewise_std_normalization=False,\n",
    "        samplewise_std_normalization=False,\n",
    "        zca_whitening=False,\n",
    "        rotation_range=90,\n",
    "        zoom_range = 0.1, \n",
    "        width_shift_range=0.1,\n",
    "        height_shift_range=0.1,\n",
    "        horizontal_flip=True,\n",
    "        vertical_flip=True,\n",
    "        shear_range = 10) \n",
    "datagen.fit(x_train)\n",
    "\n",
    "model_cold_wt.compile(optimizer = optimizer , loss = \"categorical_crossentropy\", metrics=[\"accuracy\"])\n",
    "history = model_cold_wt.fit(datagen.flow(x_train,y_train, batch_size=64),\n",
    "                              epochs = 100, validation_data = (x_validate,y_validate),\n",
    "                              verbose = 1, steps_per_epoch=x_train.shape[0] // 64\n",
    "                              , callbacks=[learning_rate_reduction])"
   ]
  },
  {
   "cell_type": "code",
   "execution_count": 41,
   "id": "35db087a",
   "metadata": {
    "execution": {
     "iopub.execute_input": "2023-04-20T03:33:20.101445Z",
     "iopub.status.busy": "2023-04-20T03:33:20.100396Z",
     "iopub.status.idle": "2023-04-20T03:33:23.300602Z",
     "shell.execute_reply": "2023-04-20T03:33:23.299517Z"
    },
    "papermill": {
     "duration": 3.952959,
     "end_time": "2023-04-20T03:33:23.302719",
     "exception": false,
     "start_time": "2023-04-20T03:33:19.349760",
     "status": "completed"
    },
    "tags": []
   },
   "outputs": [
    {
     "name": "stdout",
     "output_type": "stream",
     "text": [
      "Training: accuracy = 0.987575\n",
      "Validation: accuracy = 0.918489\n",
      "Test: accuracy = 0.926716\n"
     ]
    }
   ],
   "source": [
    "Accuracies(model_cold_wt, x_train, x_validate, x_test, y_train, y_validate ,y_test)"
   ]
  },
  {
   "cell_type": "code",
   "execution_count": 42,
   "id": "1da0688c",
   "metadata": {
    "execution": {
     "iopub.execute_input": "2023-04-20T03:33:24.914724Z",
     "iopub.status.busy": "2023-04-20T03:33:24.914317Z",
     "iopub.status.idle": "2023-04-20T03:33:26.254812Z",
     "shell.execute_reply": "2023-04-20T03:33:26.253771Z"
    },
    "papermill": {
     "duration": 2.219936,
     "end_time": "2023-04-20T03:33:26.257066",
     "exception": false,
     "start_time": "2023-04-20T03:33:24.037130",
     "status": "completed"
    },
    "tags": []
   },
   "outputs": [
    {
     "name": "stdout",
     "output_type": "stream",
     "text": [
      "34/34 [==============================] - 1s 17ms/step\n"
     ]
    },
    {
     "data": {
      "image/png": "[encoded data removed]",
      "text/plain": [
       "<Figure size 1200x600 with 2 Axes>"
      ]
     },
     "metadata": {},
     "output_type": "display_data"
    }
   ],
   "source": [
    "ConfusionMatrix(model_cold_wt, x_test, y_test, label_encoder)"
   ]
  },
  {
   "cell_type": "code",
   "execution_count": 43,
   "id": "8367dfb0",
   "metadata": {
    "execution": {
     "iopub.execute_input": "2023-04-20T03:33:27.720262Z",
     "iopub.status.busy": "2023-04-20T03:33:27.719893Z",
     "iopub.status.idle": "2023-04-20T03:33:28.689087Z",
     "shell.execute_reply": "2023-04-20T03:33:28.687719Z"
    },
    "papermill": {
     "duration": 1.70983,
     "end_time": "2023-04-20T03:33:28.691608",
     "exception": false,
     "start_time": "2023-04-20T03:33:26.981778",
     "status": "completed"
    },
    "tags": []
   },
   "outputs": [
    {
     "name": "stdout",
     "output_type": "stream",
     "text": [
      "34/34 [==============================] - 1s 16ms/step\n",
      "              precision    recall  f1-score   support\n",
      "\n",
      "           0       0.93      0.96      0.95       731\n",
      "           1       0.91      0.86      0.88       347\n",
      "\n",
      "    accuracy                           0.93      1078\n",
      "   macro avg       0.92      0.91      0.91      1078\n",
      "weighted avg       0.93      0.93      0.93      1078\n",
      "\n"
     ]
    }
   ],
   "source": [
    "ClassificationReport(model_cold_wt, x_test, y_test)"
   ]
  },
  {
   "cell_type": "code",
   "execution_count": 44,
   "id": "012c7d61",
   "metadata": {
    "execution": {
     "iopub.execute_input": "2023-04-20T03:33:30.120573Z",
     "iopub.status.busy": "2023-04-20T03:33:30.119449Z",
     "iopub.status.idle": "2023-04-20T03:33:30.372176Z",
     "shell.execute_reply": "2023-04-20T03:33:30.371127Z"
    },
    "papermill": {
     "duration": 0.99661,
     "end_time": "2023-04-20T03:33:30.374770",
     "exception": false,
     "start_time": "2023-04-20T03:33:29.378160",
     "status": "completed"
    },
    "tags": []
   },
   "outputs": [],
   "source": [
    "model_cold.save('model_cold.h5')\n",
    "model_cold_wt.save('model_cold_wt.h5')"
   ]
  },
  {
   "cell_type": "markdown",
   "id": "de50d9b3",
   "metadata": {
    "papermill": {
     "duration": 0.691763,
     "end_time": "2023-04-20T03:33:31.812638",
     "exception": false,
     "start_time": "2023-04-20T03:33:31.120875",
     "status": "completed"
    },
    "tags": []
   },
   "source": [
    "# Dusty Weather"
   ]
  },
  {
   "cell_type": "code",
   "execution_count": 45,
   "id": "eb5211b4",
   "metadata": {
    "execution": {
     "iopub.execute_input": "2023-04-20T03:33:33.252497Z",
     "iopub.status.busy": "2023-04-20T03:33:33.252107Z",
     "iopub.status.idle": "2023-04-20T03:33:33.258862Z",
     "shell.execute_reply": "2023-04-20T03:33:33.257746Z"
    },
    "papermill": {
     "duration": 0.760153,
     "end_time": "2023-04-20T03:33:33.261151",
     "exception": false,
     "start_time": "2023-04-20T03:33:32.500998",
     "status": "completed"
    },
    "tags": []
   },
   "outputs": [],
   "source": [
    "WeatherData_Dusty = WeatherData[WeatherData.Target == 'Dusty']"
   ]
  },
  {
   "cell_type": "code",
   "execution_count": 46,
   "id": "1c0c681f",
   "metadata": {
    "execution": {
     "iopub.execute_input": "2023-04-20T03:33:34.703547Z",
     "iopub.status.busy": "2023-04-20T03:33:34.703172Z",
     "iopub.status.idle": "2023-04-20T03:33:34.727242Z",
     "shell.execute_reply": "2023-04-20T03:33:34.726205Z"
    },
    "papermill": {
     "duration": 0.771146,
     "end_time": "2023-04-20T03:33:34.729754",
     "exception": false,
     "start_time": "2023-04-20T03:33:33.958608",
     "status": "completed"
    },
    "tags": []
   },
   "outputs": [],
   "source": [
    "Features = np.stack(WeatherData_Dusty['image'].values)\n",
    "Target = WeatherData_Dusty['label']\n",
    "num_classes = 2"
   ]
  },
  {
   "cell_type": "code",
   "execution_count": 47,
   "id": "6dfe476a",
   "metadata": {
    "execution": {
     "iopub.execute_input": "2023-04-20T03:33:36.276166Z",
     "iopub.status.busy": "2023-04-20T03:33:36.275779Z",
     "iopub.status.idle": "2023-04-20T03:33:57.009148Z",
     "shell.execute_reply": "2023-04-20T03:33:57.007905Z"
    },
    "papermill": {
     "duration": 21.511706,
     "end_time": "2023-04-20T03:33:57.012073",
     "exception": false,
     "start_time": "2023-04-20T03:33:35.500367",
     "status": "completed"
    },
    "tags": []
   },
   "outputs": [],
   "source": [
    "x_train_o, x_test_o, y_train_o, y_test_o = train_test_split(Features, Target, test_size=0.3,random_state=666)\n",
    "x_train = np.asarray(x_train_o.tolist())\n",
    "x_test = np.asarray(x_test_o.tolist())\n",
    "x_train_mean = np.mean(x_train)\n",
    "x_train_std = np.std(x_train)\n",
    "x_test_mean = np.mean(x_test)\n",
    "x_test_std = np.std(x_test)\n",
    "x_train = (x_train - x_train_mean)/x_train_std\n",
    "x_test = (x_test - x_test_mean)/x_test_std"
   ]
  },
  {
   "cell_type": "code",
   "execution_count": 48,
   "id": "057dfaba",
   "metadata": {
    "execution": {
     "iopub.execute_input": "2023-04-20T03:33:58.558447Z",
     "iopub.status.busy": "2023-04-20T03:33:58.558076Z",
     "iopub.status.idle": "2023-04-20T03:33:58.642026Z",
     "shell.execute_reply": "2023-04-20T03:33:58.640959Z"
    },
    "papermill": {
     "duration": 0.83906,
     "end_time": "2023-04-20T03:33:58.644736",
     "exception": false,
     "start_time": "2023-04-20T03:33:57.805676",
     "status": "completed"
    },
    "tags": []
   },
   "outputs": [],
   "source": [
    "label_encoder = LabelEncoder()\n",
    "y_train_o = label_encoder.fit_transform(y_train_o)\n",
    "y_test_o = label_encoder.transform(y_test_o)\n",
    "y_train = to_categorical(y_train_o, num_classes = 2)\n",
    "y_test = to_categorical(y_test_o, num_classes = 2)\n",
    "x_train, x_validate, y_train, y_validate = train_test_split(x_train, y_train, test_size = 0.2, random_state = 999, stratify=y_train)"
   ]
  },
  {
   "cell_type": "code",
   "execution_count": 49,
   "id": "50b2e304",
   "metadata": {
    "execution": {
     "iopub.execute_input": "2023-04-20T03:34:00.102444Z",
     "iopub.status.busy": "2023-04-20T03:34:00.102080Z",
     "iopub.status.idle": "2023-04-20T03:34:00.107673Z",
     "shell.execute_reply": "2023-04-20T03:34:00.106670Z"
    },
    "papermill": {
     "duration": 0.702311,
     "end_time": "2023-04-20T03:34:00.109795",
     "exception": false,
     "start_time": "2023-04-20T03:33:59.407484",
     "status": "completed"
    },
    "tags": []
   },
   "outputs": [],
   "source": [
    "x_train = x_train.reshape(x_train.shape[0], *(100, 100, 3))\n",
    "x_test = x_test.reshape(x_test.shape[0], *(100, 100, 3))\n",
    "x_validate = x_validate.reshape(x_validate.shape[0], *(100, 100, 3))"
   ]
  },
  {
   "cell_type": "code",
   "execution_count": 50,
   "id": "f7901ce6",
   "metadata": {
    "execution": {
     "iopub.execute_input": "2023-04-20T03:34:01.551066Z",
     "iopub.status.busy": "2023-04-20T03:34:01.550684Z",
     "iopub.status.idle": "2023-04-20T03:34:01.878337Z",
     "shell.execute_reply": "2023-04-20T03:34:01.877266Z"
    },
    "papermill": {
     "duration": 1.082432,
     "end_time": "2023-04-20T03:34:01.881201",
     "exception": false,
     "start_time": "2023-04-20T03:34:00.798769",
     "status": "completed"
    },
    "tags": []
   },
   "outputs": [],
   "source": [
    "vgg_model = VGG16(weights='imagenet', include_top=False, input_shape=input_shape)\n",
    "for layer in vgg_model.layers:\n",
    "    layer.trainable = False\n",
    "x = Flatten()(vgg_model.output)\n",
    "x = Dense(256, activation='relu')(x)\n",
    "\n",
    "\n",
    "x = Dense(num_classes, activation='softmax')(x)\n",
    "model_dusty = Model(inputs=vgg_model.input, outputs=x)"
   ]
  },
  {
   "cell_type": "code",
   "execution_count": 51,
   "id": "371e8295",
   "metadata": {
    "execution": {
     "iopub.execute_input": "2023-04-20T03:34:03.346225Z",
     "iopub.status.busy": "2023-04-20T03:34:03.344999Z",
     "iopub.status.idle": "2023-04-20T03:38:04.225173Z",
     "shell.execute_reply": "2023-04-20T03:38:04.224004Z"
    },
    "papermill": {
     "duration": 241.654745,
     "end_time": "2023-04-20T03:38:04.228129",
     "exception": false,
     "start_time": "2023-04-20T03:34:02.573384",
     "status": "completed"
    },
    "tags": []
   },
   "outputs": [
    {
     "name": "stdout",
     "output_type": "stream",
     "text": [
      "Epoch 1/100\n",
      "13/13 [==============================] - 4s 226ms/step - loss: 0.9532 - accuracy: 0.6500 - val_loss: 0.5694 - val_accuracy: 0.6620 - lr: 0.0010\n",
      "Epoch 2/100\n",
      "13/13 [==============================] - 2s 154ms/step - loss: 0.4007 - accuracy: 0.8100 - val_loss: 0.3197 - val_accuracy: 0.8704 - lr: 0.0010\n",
      "Epoch 3/100\n",
      "13/13 [==============================] - 2s 155ms/step - loss: 0.2846 - accuracy: 0.8913 - val_loss: 0.2850 - val_accuracy: 0.8519 - lr: 0.0010\n",
      "Epoch 4/100\n",
      "13/13 [==============================] - 2s 192ms/step - loss: 0.2456 - accuracy: 0.9013 - val_loss: 0.2797 - val_accuracy: 0.8843 - lr: 0.0010\n",
      "Epoch 5/100\n",
      "13/13 [==============================] - 2s 156ms/step - loss: 0.2208 - accuracy: 0.9200 - val_loss: 0.2577 - val_accuracy: 0.8935 - lr: 0.0010\n",
      "Epoch 6/100\n",
      "13/13 [==============================] - 2s 164ms/step - loss: 0.2233 - accuracy: 0.9225 - val_loss: 0.2701 - val_accuracy: 0.8704 - lr: 0.0010\n",
      "Epoch 7/100\n",
      "13/13 [==============================] - 2s 156ms/step - loss: 0.2251 - accuracy: 0.9137 - val_loss: 0.3279 - val_accuracy: 0.8565 - lr: 0.0010\n",
      "Epoch 8/100\n",
      "13/13 [==============================] - 2s 156ms/step - loss: 0.1999 - accuracy: 0.9212 - val_loss: 0.2529 - val_accuracy: 0.8750 - lr: 0.0010\n",
      "Epoch 9/100\n",
      "13/13 [==============================] - 2s 161ms/step - loss: 0.2065 - accuracy: 0.9262 - val_loss: 0.2302 - val_accuracy: 0.8981 - lr: 0.0010\n",
      "Epoch 10/100\n",
      "13/13 [==============================] - 2s 160ms/step - loss: 0.1826 - accuracy: 0.9312 - val_loss: 0.2241 - val_accuracy: 0.9028 - lr: 0.0010\n",
      "Epoch 11/100\n",
      "13/13 [==============================] - 2s 161ms/step - loss: 0.1846 - accuracy: 0.9275 - val_loss: 0.2178 - val_accuracy: 0.9028 - lr: 0.0010\n",
      "Epoch 12/100\n",
      "13/13 [==============================] - 2s 161ms/step - loss: 0.1846 - accuracy: 0.9291 - val_loss: 0.2344 - val_accuracy: 0.8843 - lr: 0.0010\n",
      "Epoch 13/100\n",
      "13/13 [==============================] - 2s 190ms/step - loss: 0.1817 - accuracy: 0.9362 - val_loss: 0.2220 - val_accuracy: 0.8889 - lr: 0.0010\n",
      "Epoch 14/100\n",
      "13/13 [==============================] - 2s 163ms/step - loss: 0.1515 - accuracy: 0.9438 - val_loss: 0.2202 - val_accuracy: 0.8889 - lr: 0.0010\n",
      "Epoch 15/100\n",
      "13/13 [==============================] - 2s 159ms/step - loss: 0.1613 - accuracy: 0.9312 - val_loss: 0.2504 - val_accuracy: 0.9074 - lr: 0.0010\n",
      "Epoch 16/100\n",
      "13/13 [==============================] - 2s 168ms/step - loss: 0.1555 - accuracy: 0.9400 - val_loss: 0.2278 - val_accuracy: 0.9074 - lr: 0.0010\n",
      "Epoch 17/100\n",
      "13/13 [==============================] - 2s 163ms/step - loss: 0.1569 - accuracy: 0.9325 - val_loss: 0.2423 - val_accuracy: 0.8935 - lr: 0.0010\n",
      "Epoch 18/100\n",
      "13/13 [==============================] - 2s 181ms/step - loss: 0.1494 - accuracy: 0.9388 - val_loss: 0.2410 - val_accuracy: 0.8981 - lr: 0.0010\n",
      "Epoch 19/100\n",
      "13/13 [==============================] - 2s 157ms/step - loss: 0.1779 - accuracy: 0.9250 - val_loss: 0.2524 - val_accuracy: 0.9028 - lr: 0.0010\n",
      "Epoch 20/100\n",
      "13/13 [==============================] - 2s 155ms/step - loss: 0.1630 - accuracy: 0.9388 - val_loss: 0.2526 - val_accuracy: 0.9028 - lr: 0.0010\n",
      "Epoch 21/100\n",
      "13/13 [==============================] - 2s 159ms/step - loss: 0.1672 - accuracy: 0.9438 - val_loss: 0.2526 - val_accuracy: 0.9074 - lr: 0.0010\n",
      "Epoch 22/100\n",
      "13/13 [==============================] - 2s 161ms/step - loss: 0.1579 - accuracy: 0.9450 - val_loss: 0.2580 - val_accuracy: 0.9028 - lr: 0.0010\n",
      "Epoch 23/100\n",
      "13/13 [==============================] - 2s 156ms/step - loss: 0.1478 - accuracy: 0.9375 - val_loss: 0.2486 - val_accuracy: 0.9028 - lr: 0.0010\n",
      "Epoch 24/100\n",
      "13/13 [==============================] - 2s 155ms/step - loss: 0.1465 - accuracy: 0.9375 - val_loss: 0.2463 - val_accuracy: 0.9120 - lr: 0.0010\n",
      "Epoch 25/100\n",
      "13/13 [==============================] - 2s 163ms/step - loss: 0.1600 - accuracy: 0.9362 - val_loss: 0.2361 - val_accuracy: 0.8935 - lr: 0.0010\n",
      "Epoch 26/100\n",
      "13/13 [==============================] - 2s 186ms/step - loss: 0.1572 - accuracy: 0.9388 - val_loss: 0.2629 - val_accuracy: 0.8704 - lr: 0.0010\n",
      "Epoch 27/100\n",
      "13/13 [==============================] - 2s 154ms/step - loss: 0.1708 - accuracy: 0.9287 - val_loss: 0.2658 - val_accuracy: 0.9028 - lr: 0.0010\n",
      "Epoch 28/100\n",
      "13/13 [==============================] - 2s 168ms/step - loss: 0.1459 - accuracy: 0.9425 - val_loss: 0.2238 - val_accuracy: 0.9213 - lr: 0.0010\n",
      "Epoch 29/100\n",
      "13/13 [==============================] - 2s 161ms/step - loss: 0.1292 - accuracy: 0.9471 - val_loss: 0.2119 - val_accuracy: 0.9120 - lr: 0.0010\n",
      "Epoch 30/100\n",
      "13/13 [==============================] - 2s 171ms/step - loss: 0.1207 - accuracy: 0.9563 - val_loss: 0.2076 - val_accuracy: 0.9167 - lr: 0.0010\n",
      "Epoch 31/100\n",
      "13/13 [==============================] - 2s 158ms/step - loss: 0.1251 - accuracy: 0.9513 - val_loss: 0.3522 - val_accuracy: 0.8611 - lr: 0.0010\n",
      "Epoch 32/100\n",
      "13/13 [==============================] - 2s 174ms/step - loss: 0.1707 - accuracy: 0.9327 - val_loss: 0.3036 - val_accuracy: 0.8750 - lr: 0.0010\n",
      "Epoch 33/100\n",
      "13/13 [==============================] - 2s 154ms/step - loss: 0.1560 - accuracy: 0.9438 - val_loss: 0.2277 - val_accuracy: 0.9213 - lr: 0.0010\n",
      "Epoch 34/100\n",
      "13/13 [==============================] - 2s 161ms/step - loss: 0.1400 - accuracy: 0.9483 - val_loss: 0.2076 - val_accuracy: 0.9213 - lr: 0.0010\n",
      "Epoch 35/100\n",
      "13/13 [==============================] - 2s 157ms/step - loss: 0.1474 - accuracy: 0.9413 - val_loss: 0.2116 - val_accuracy: 0.9306 - lr: 0.0010\n",
      "Epoch 36/100\n",
      "13/13 [==============================] - 2s 161ms/step - loss: 0.1370 - accuracy: 0.9495 - val_loss: 0.2265 - val_accuracy: 0.9213 - lr: 0.0010\n",
      "Epoch 37/100\n",
      "13/13 [==============================] - 2s 156ms/step - loss: 0.1522 - accuracy: 0.9350 - val_loss: 0.2412 - val_accuracy: 0.9074 - lr: 0.0010\n",
      "Epoch 38/100\n",
      "13/13 [==============================] - 2s 156ms/step - loss: 0.1154 - accuracy: 0.9563 - val_loss: 0.2032 - val_accuracy: 0.9259 - lr: 0.0010\n",
      "Epoch 39/100\n",
      "13/13 [==============================] - 3s 200ms/step - loss: 0.1261 - accuracy: 0.9525 - val_loss: 0.2125 - val_accuracy: 0.9213 - lr: 0.0010\n",
      "Epoch 40/100\n",
      "13/13 [==============================] - 2s 155ms/step - loss: 0.1270 - accuracy: 0.9525 - val_loss: 0.2066 - val_accuracy: 0.9167 - lr: 0.0010\n",
      "Epoch 41/100\n",
      "13/13 [==============================] - 2s 163ms/step - loss: 0.0960 - accuracy: 0.9663 - val_loss: 0.2160 - val_accuracy: 0.9074 - lr: 0.0010\n",
      "Epoch 42/100\n",
      "13/13 [==============================] - 2s 156ms/step - loss: 0.1203 - accuracy: 0.9588 - val_loss: 0.2338 - val_accuracy: 0.9074 - lr: 0.0010\n",
      "Epoch 43/100\n",
      "13/13 [==============================] - 2s 154ms/step - loss: 0.1301 - accuracy: 0.9513 - val_loss: 0.2128 - val_accuracy: 0.9167 - lr: 0.0010\n",
      "Epoch 44/100\n",
      "13/13 [==============================] - 2s 162ms/step - loss: 0.1113 - accuracy: 0.9600 - val_loss: 0.2220 - val_accuracy: 0.9074 - lr: 0.0010\n",
      "Epoch 45/100\n",
      "13/13 [==============================] - 3s 194ms/step - loss: 0.0796 - accuracy: 0.9675 - val_loss: 0.2437 - val_accuracy: 0.9074 - lr: 0.0010\n",
      "Epoch 46/100\n",
      "13/13 [==============================] - 2s 154ms/step - loss: 0.1053 - accuracy: 0.9525 - val_loss: 0.2445 - val_accuracy: 0.9028 - lr: 0.0010\n",
      "Epoch 47/100\n",
      "13/13 [==============================] - 2s 163ms/step - loss: 0.1186 - accuracy: 0.9519 - val_loss: 0.1986 - val_accuracy: 0.9306 - lr: 0.0010\n",
      "Epoch 48/100\n",
      "13/13 [==============================] - 2s 154ms/step - loss: 0.1131 - accuracy: 0.9538 - val_loss: 0.1952 - val_accuracy: 0.9259 - lr: 0.0010\n",
      "Epoch 49/100\n",
      "13/13 [==============================] - 2s 171ms/step - loss: 0.0889 - accuracy: 0.9638 - val_loss: 0.2902 - val_accuracy: 0.8704 - lr: 0.0010\n",
      "Epoch 50/100\n",
      "13/13 [==============================] - 2s 156ms/step - loss: 0.0906 - accuracy: 0.9675 - val_loss: 0.1943 - val_accuracy: 0.9213 - lr: 0.0010\n",
      "Epoch 51/100\n",
      "13/13 [==============================] - 2s 157ms/step - loss: 0.1153 - accuracy: 0.9525 - val_loss: 0.2181 - val_accuracy: 0.9028 - lr: 0.0010\n",
      "Epoch 52/100\n",
      "13/13 [==============================] - 2s 163ms/step - loss: 0.1286 - accuracy: 0.9447 - val_loss: 0.2149 - val_accuracy: 0.9120 - lr: 0.0010\n",
      "Epoch 53/100\n",
      "13/13 [==============================] - 3s 196ms/step - loss: 0.1047 - accuracy: 0.9563 - val_loss: 0.2042 - val_accuracy: 0.9259 - lr: 0.0010\n",
      "Epoch 54/100\n",
      "13/13 [==============================] - 2s 156ms/step - loss: 0.1060 - accuracy: 0.9600 - val_loss: 0.2049 - val_accuracy: 0.9398 - lr: 0.0010\n",
      "Epoch 55/100\n",
      "13/13 [==============================] - 2s 155ms/step - loss: 0.0982 - accuracy: 0.9663 - val_loss: 0.2200 - val_accuracy: 0.9306 - lr: 0.0010\n",
      "Epoch 56/100\n",
      "13/13 [==============================] - 2s 163ms/step - loss: 0.1075 - accuracy: 0.9600 - val_loss: 0.2190 - val_accuracy: 0.9167 - lr: 0.0010\n",
      "Epoch 57/100\n",
      "13/13 [==============================] - 2s 161ms/step - loss: 0.0945 - accuracy: 0.9603 - val_loss: 0.2350 - val_accuracy: 0.9028 - lr: 0.0010\n",
      "Epoch 58/100\n",
      "13/13 [==============================] - 2s 179ms/step - loss: 0.0937 - accuracy: 0.9638 - val_loss: 0.2474 - val_accuracy: 0.8981 - lr: 0.0010\n",
      "Epoch 59/100\n",
      "13/13 [==============================] - 2s 167ms/step - loss: 0.1200 - accuracy: 0.9513 - val_loss: 0.2030 - val_accuracy: 0.9167 - lr: 0.0010\n",
      "Epoch 60/100\n",
      "13/13 [==============================] - 2s 175ms/step - loss: 0.1012 - accuracy: 0.9563 - val_loss: 0.1921 - val_accuracy: 0.9259 - lr: 0.0010\n",
      "Epoch 61/100\n",
      "13/13 [==============================] - 2s 156ms/step - loss: 0.0880 - accuracy: 0.9625 - val_loss: 0.2290 - val_accuracy: 0.9074 - lr: 0.0010\n",
      "Epoch 62/100\n",
      "13/13 [==============================] - 2s 160ms/step - loss: 0.1198 - accuracy: 0.9575 - val_loss: 0.1857 - val_accuracy: 0.9167 - lr: 0.0010\n",
      "Epoch 63/100\n",
      "13/13 [==============================] - 2s 155ms/step - loss: 0.0917 - accuracy: 0.9663 - val_loss: 0.2365 - val_accuracy: 0.9028 - lr: 0.0010\n",
      "Epoch 64/100\n",
      "13/13 [==============================] - 2s 154ms/step - loss: 0.0856 - accuracy: 0.9700 - val_loss: 0.2080 - val_accuracy: 0.9074 - lr: 0.0010\n",
      "Epoch 65/100\n",
      "13/13 [==============================] - 2s 154ms/step - loss: 0.0894 - accuracy: 0.9650 - val_loss: 0.2071 - val_accuracy: 0.9167 - lr: 0.0010\n",
      "Epoch 66/100\n",
      "13/13 [==============================] - 2s 175ms/step - loss: 0.0755 - accuracy: 0.9663 - val_loss: 0.2884 - val_accuracy: 0.8889 - lr: 0.0010\n",
      "Epoch 67/100\n",
      "13/13 [==============================] - 2s 182ms/step - loss: 0.1138 - accuracy: 0.9600 - val_loss: 0.2737 - val_accuracy: 0.8843 - lr: 0.0010\n",
      "Epoch 68/100\n",
      "13/13 [==============================] - 2s 154ms/step - loss: 0.1149 - accuracy: 0.9638 - val_loss: 0.2391 - val_accuracy: 0.8889 - lr: 0.0010\n",
      "Epoch 69/100\n",
      "13/13 [==============================] - 2s 154ms/step - loss: 0.0875 - accuracy: 0.9688 - val_loss: 0.2043 - val_accuracy: 0.9213 - lr: 0.0010\n",
      "Epoch 70/100\n",
      "13/13 [==============================] - 2s 154ms/step - loss: 0.0674 - accuracy: 0.9775 - val_loss: 0.2323 - val_accuracy: 0.8981 - lr: 0.0010\n",
      "Epoch 71/100\n",
      "13/13 [==============================] - 2s 177ms/step - loss: 0.0935 - accuracy: 0.9588 - val_loss: 0.2162 - val_accuracy: 0.9074 - lr: 0.0010\n",
      "Epoch 72/100\n",
      "13/13 [==============================] - 2s 177ms/step - loss: 0.0982 - accuracy: 0.9613 - val_loss: 0.2851 - val_accuracy: 0.8843 - lr: 0.0010\n",
      "Epoch 73/100\n",
      "13/13 [==============================] - 2s 155ms/step - loss: 0.1078 - accuracy: 0.9550 - val_loss: 0.2478 - val_accuracy: 0.8750 - lr: 0.0010\n",
      "Epoch 74/100\n",
      "13/13 [==============================] - 2s 164ms/step - loss: 0.0855 - accuracy: 0.9760 - val_loss: 0.2147 - val_accuracy: 0.9259 - lr: 0.0010\n",
      "Epoch 75/100\n",
      "13/13 [==============================] - 2s 155ms/step - loss: 0.0891 - accuracy: 0.9650 - val_loss: 0.2157 - val_accuracy: 0.9167 - lr: 0.0010\n",
      "Epoch 76/100\n",
      "13/13 [==============================] - 2s 162ms/step - loss: 0.0684 - accuracy: 0.9784 - val_loss: 0.2377 - val_accuracy: 0.8981 - lr: 0.0010\n",
      "Epoch 77/100\n",
      "13/13 [==============================] - 2s 156ms/step - loss: 0.0773 - accuracy: 0.9650 - val_loss: 0.2597 - val_accuracy: 0.8889 - lr: 0.0010\n",
      "Epoch 78/100\n",
      "13/13 [==============================] - 2s 158ms/step - loss: 0.0781 - accuracy: 0.9725 - val_loss: 0.1959 - val_accuracy: 0.9167 - lr: 0.0010\n",
      "Epoch 79/100\n",
      "13/13 [==============================] - 2s 189ms/step - loss: 0.0701 - accuracy: 0.9625 - val_loss: 0.2313 - val_accuracy: 0.9213 - lr: 0.0010\n",
      "Epoch 80/100\n",
      "13/13 [==============================] - 2s 155ms/step - loss: 0.1030 - accuracy: 0.9538 - val_loss: 0.2672 - val_accuracy: 0.9120 - lr: 0.0010\n",
      "Epoch 81/100\n",
      "13/13 [==============================] - 2s 169ms/step - loss: 0.0858 - accuracy: 0.9663 - val_loss: 0.2130 - val_accuracy: 0.9120 - lr: 0.0010\n",
      "Epoch 82/100\n",
      "13/13 [==============================] - 2s 159ms/step - loss: 0.0736 - accuracy: 0.9736 - val_loss: 0.2199 - val_accuracy: 0.9259 - lr: 0.0010\n",
      "Epoch 83/100\n",
      "13/13 [==============================] - 2s 158ms/step - loss: 0.0808 - accuracy: 0.9613 - val_loss: 0.2036 - val_accuracy: 0.9352 - lr: 0.0010\n",
      "Epoch 84/100\n",
      "13/13 [==============================] - 2s 156ms/step - loss: 0.0869 - accuracy: 0.9663 - val_loss: 0.2095 - val_accuracy: 0.9306 - lr: 0.0010\n",
      "Epoch 85/100\n",
      "13/13 [==============================] - 3s 204ms/step - loss: 0.0670 - accuracy: 0.9787 - val_loss: 0.2026 - val_accuracy: 0.9167 - lr: 0.0010\n",
      "Epoch 86/100\n",
      "13/13 [==============================] - 2s 165ms/step - loss: 0.1055 - accuracy: 0.9575 - val_loss: 0.2802 - val_accuracy: 0.9074 - lr: 0.0010\n",
      "Epoch 87/100\n",
      "13/13 [==============================] - 2s 154ms/step - loss: 0.0723 - accuracy: 0.9725 - val_loss: 0.2288 - val_accuracy: 0.9120 - lr: 0.0010\n",
      "Epoch 88/100\n",
      "13/13 [==============================] - 2s 156ms/step - loss: 0.0850 - accuracy: 0.9712 - val_loss: 0.2170 - val_accuracy: 0.9167 - lr: 0.0010\n",
      "Epoch 89/100\n",
      "13/13 [==============================] - 2s 160ms/step - loss: 0.0673 - accuracy: 0.9737 - val_loss: 0.2334 - val_accuracy: 0.9167 - lr: 0.0010\n",
      "Epoch 90/100\n",
      "13/13 [==============================] - 2s 168ms/step - loss: 0.0748 - accuracy: 0.9750 - val_loss: 0.2493 - val_accuracy: 0.9259 - lr: 0.0010\n",
      "Epoch 91/100\n",
      "13/13 [==============================] - 2s 183ms/step - loss: 0.0728 - accuracy: 0.9712 - val_loss: 0.2221 - val_accuracy: 0.9120 - lr: 0.0010\n",
      "Epoch 92/100\n",
      "13/13 [==============================] - 2s 155ms/step - loss: 0.0439 - accuracy: 0.9825 - val_loss: 0.2183 - val_accuracy: 0.9167 - lr: 0.0010\n",
      "Epoch 93/100\n",
      "13/13 [==============================] - 2s 162ms/step - loss: 0.0725 - accuracy: 0.9737 - val_loss: 0.2286 - val_accuracy: 0.9213 - lr: 0.0010\n",
      "Epoch 94/100\n",
      "13/13 [==============================] - 2s 156ms/step - loss: 0.0910 - accuracy: 0.9700 - val_loss: 0.2128 - val_accuracy: 0.9120 - lr: 0.0010\n",
      "Epoch 95/100\n",
      "13/13 [==============================] - 2s 161ms/step - loss: 0.0954 - accuracy: 0.9625 - val_loss: 0.2112 - val_accuracy: 0.9028 - lr: 0.0010\n",
      "Epoch 96/100\n",
      "13/13 [==============================] - 2s 161ms/step - loss: 0.0785 - accuracy: 0.9725 - val_loss: 0.1905 - val_accuracy: 0.9213 - lr: 0.0010\n",
      "Epoch 97/100\n",
      "13/13 [==============================] - 2s 194ms/step - loss: 0.0707 - accuracy: 0.9737 - val_loss: 0.2093 - val_accuracy: 0.9213 - lr: 0.0010\n",
      "Epoch 98/100\n",
      "13/13 [==============================] - 2s 173ms/step - loss: 0.0744 - accuracy: 0.9725 - val_loss: 0.2233 - val_accuracy: 0.9491 - lr: 0.0010\n",
      "Epoch 99/100\n",
      "13/13 [==============================] - 2s 163ms/step - loss: 0.0662 - accuracy: 0.9750 - val_loss: 0.2228 - val_accuracy: 0.9120 - lr: 0.0010\n",
      "Epoch 100/100\n",
      "13/13 [==============================] - 2s 156ms/step - loss: 0.0691 - accuracy: 0.9712 - val_loss: 0.2346 - val_accuracy: 0.9074 - lr: 0.0010\n"
     ]
    }
   ],
   "source": [
    "optimizer = Adam(lr=0.01, beta_1=0.9, beta_2=0.999, epsilon=1e-8, amsgrad=False)\n",
    "learning_rate_reduction = ReduceLROnPlateau(monitor='val_acc', patience=4, verbose=1, factor=0.5, min_lr=0.00001)\n",
    "\n",
    "datagen = ImageDataGenerator(\n",
    "        featurewise_center=False, \n",
    "        samplewise_center=False, \n",
    "        featurewise_std_normalization=False,\n",
    "        samplewise_std_normalization=False,\n",
    "        zca_whitening=False,\n",
    "        rotation_range=90,\n",
    "        zoom_range = 0.1, \n",
    "        width_shift_range=0.1,\n",
    "        height_shift_range=0.1,\n",
    "        horizontal_flip=True,\n",
    "        vertical_flip=True,\n",
    "        shear_range = 10) \n",
    "datagen.fit(x_train)\n",
    "\n",
    "model_dusty.compile(optimizer = optimizer , loss = \"categorical_crossentropy\", metrics=[\"accuracy\"])\n",
    "history = model_dusty.fit(datagen.flow(x_train,y_train, batch_size=64),\n",
    "                              epochs = 100, validation_data = (x_validate,y_validate),\n",
    "                              verbose = 1, steps_per_epoch=x_train.shape[0] // 64\n",
    "                              , callbacks=[learning_rate_reduction])"
   ]
  },
  {
   "cell_type": "code",
   "execution_count": 52,
   "id": "1667e0ec",
   "metadata": {
    "execution": {
     "iopub.execute_input": "2023-04-20T03:38:05.859958Z",
     "iopub.status.busy": "2023-04-20T03:38:05.859573Z",
     "iopub.status.idle": "2023-04-20T03:38:07.657254Z",
     "shell.execute_reply": "2023-04-20T03:38:07.656237Z"
    },
    "papermill": {
     "duration": 2.635868,
     "end_time": "2023-04-20T03:38:07.659725",
     "exception": false,
     "start_time": "2023-04-20T03:38:05.023857",
     "status": "completed"
    },
    "tags": []
   },
   "outputs": [
    {
     "name": "stdout",
     "output_type": "stream",
     "text": [
      "Training: accuracy = 0.971065\n",
      "Validation: accuracy = 0.907407\n",
      "Test: accuracy = 0.909287\n"
     ]
    }
   ],
   "source": [
    "Accuracies(model_dusty, x_train, x_validate, x_test, y_train, y_validate ,y_test)"
   ]
  },
  {
   "cell_type": "code",
   "execution_count": 53,
   "id": "5589ae97",
   "metadata": {
    "execution": {
     "iopub.execute_input": "2023-04-20T03:38:09.264853Z",
     "iopub.status.busy": "2023-04-20T03:38:09.264476Z",
     "iopub.status.idle": "2023-04-20T03:38:10.099755Z",
     "shell.execute_reply": "2023-04-20T03:38:10.098789Z"
    },
    "papermill": {
     "duration": 1.666501,
     "end_time": "2023-04-20T03:38:10.101920",
     "exception": false,
     "start_time": "2023-04-20T03:38:08.435419",
     "status": "completed"
    },
    "tags": []
   },
   "outputs": [
    {
     "name": "stdout",
     "output_type": "stream",
     "text": [
      "15/15 [==============================] - 0s 17ms/step\n"
     ]
    },
    {
     "data": {
      "image/png": "[encoded data removed]",
      "text/plain": [
       "<Figure size 1200x600 with 2 Axes>"
      ]
     },
     "metadata": {},
     "output_type": "display_data"
    }
   ],
   "source": [
    "ConfusionMatrix(model_dusty, x_test, y_test, label_encoder)"
   ]
  },
  {
   "cell_type": "code",
   "execution_count": 54,
   "id": "d358927a",
   "metadata": {
    "execution": {
     "iopub.execute_input": "2023-04-20T03:38:11.818504Z",
     "iopub.status.busy": "2023-04-20T03:38:11.818128Z",
     "iopub.status.idle": "2023-04-20T03:38:12.306815Z",
     "shell.execute_reply": "2023-04-20T03:38:12.305419Z"
    },
    "papermill": {
     "duration": 1.269449,
     "end_time": "2023-04-20T03:38:12.309459",
     "exception": false,
     "start_time": "2023-04-20T03:38:11.040010",
     "status": "completed"
    },
    "tags": []
   },
   "outputs": [
    {
     "name": "stdout",
     "output_type": "stream",
     "text": [
      "15/15 [==============================] - 0s 17ms/step\n",
      "              precision    recall  f1-score   support\n",
      "\n",
      "           0       0.91      0.92      0.92       253\n",
      "           1       0.91      0.89      0.90       210\n",
      "\n",
      "    accuracy                           0.91       463\n",
      "   macro avg       0.91      0.91      0.91       463\n",
      "weighted avg       0.91      0.91      0.91       463\n",
      "\n"
     ]
    }
   ],
   "source": [
    "ClassificationReport(model_dusty, x_test, y_test)"
   ]
  },
  {
   "cell_type": "code",
   "execution_count": 55,
   "id": "1b70c172",
   "metadata": {
    "execution": {
     "iopub.execute_input": "2023-04-20T03:38:13.918020Z",
     "iopub.status.busy": "2023-04-20T03:38:13.916916Z",
     "iopub.status.idle": "2023-04-20T03:38:14.045165Z",
     "shell.execute_reply": "2023-04-20T03:38:14.044125Z"
    },
    "papermill": {
     "duration": 0.908217,
     "end_time": "2023-04-20T03:38:14.047662",
     "exception": false,
     "start_time": "2023-04-20T03:38:13.139445",
     "status": "completed"
    },
    "tags": []
   },
   "outputs": [],
   "source": [
    "model_dusty.save('model_dusty.h5')"
   ]
  },
  {
   "cell_type": "markdown",
   "id": "4e37851a",
   "metadata": {
    "papermill": {
     "duration": 0.827414,
     "end_time": "2023-04-20T03:38:15.707398",
     "exception": false,
     "start_time": "2023-04-20T03:38:14.879984",
     "status": "completed"
    },
    "tags": []
   },
   "source": [
    "# Rainy Weather"
   ]
  },
  {
   "cell_type": "code",
   "execution_count": 56,
   "id": "c18f0a66",
   "metadata": {
    "execution": {
     "iopub.execute_input": "2023-04-20T03:38:17.346605Z",
     "iopub.status.busy": "2023-04-20T03:38:17.346229Z",
     "iopub.status.idle": "2023-04-20T03:38:17.353817Z",
     "shell.execute_reply": "2023-04-20T03:38:17.352886Z"
    },
    "papermill": {
     "duration": 0.84517,
     "end_time": "2023-04-20T03:38:17.356047",
     "exception": false,
     "start_time": "2023-04-20T03:38:16.510877",
     "status": "completed"
    },
    "tags": []
   },
   "outputs": [],
   "source": [
    "WeatherData_Rainy = WeatherData[WeatherData.Target == 'Rainy']"
   ]
  },
  {
   "cell_type": "code",
   "execution_count": 57,
   "id": "20cd4ce0",
   "metadata": {
    "execution": {
     "iopub.execute_input": "2023-04-20T03:38:18.959441Z",
     "iopub.status.busy": "2023-04-20T03:38:18.959069Z",
     "iopub.status.idle": "2023-04-20T03:38:18.984203Z",
     "shell.execute_reply": "2023-04-20T03:38:18.983136Z"
    },
    "papermill": {
     "duration": 0.857063,
     "end_time": "2023-04-20T03:38:18.986904",
     "exception": false,
     "start_time": "2023-04-20T03:38:18.129841",
     "status": "completed"
    },
    "tags": []
   },
   "outputs": [],
   "source": [
    "Features = np.stack(WeatherData_Rainy['image'].values)\n",
    "Target = WeatherData_Rainy['label']\n",
    "num_classes = 4"
   ]
  },
  {
   "cell_type": "code",
   "execution_count": 58,
   "id": "71e87a85",
   "metadata": {
    "execution": {
     "iopub.execute_input": "2023-04-20T03:38:20.589005Z",
     "iopub.status.busy": "2023-04-20T03:38:20.588627Z",
     "iopub.status.idle": "2023-04-20T03:38:42.832236Z",
     "shell.execute_reply": "2023-04-20T03:38:42.831101Z"
    },
    "papermill": {
     "duration": 23.019148,
     "end_time": "2023-04-20T03:38:42.835432",
     "exception": false,
     "start_time": "2023-04-20T03:38:19.816284",
     "status": "completed"
    },
    "tags": []
   },
   "outputs": [],
   "source": [
    "x_train_o, x_test_o, y_train_o, y_test_o = train_test_split(Features, Target, test_size=0.3,random_state=666)\n",
    "x_train = np.asarray(x_train_o.tolist())\n",
    "x_test = np.asarray(x_test_o.tolist())\n",
    "x_train_mean = np.mean(x_train)\n",
    "x_train_std = np.std(x_train)\n",
    "x_test_mean = np.mean(x_test)\n",
    "x_test_std = np.std(x_test)\n",
    "x_train = (x_train - x_train_mean)/x_train_std\n",
    "x_test = (x_test - x_test_mean)/x_test_std"
   ]
  },
  {
   "cell_type": "code",
   "execution_count": 59,
   "id": "8121fe40",
   "metadata": {
    "execution": {
     "iopub.execute_input": "2023-04-20T03:38:44.628732Z",
     "iopub.status.busy": "2023-04-20T03:38:44.628196Z",
     "iopub.status.idle": "2023-04-20T03:38:44.727116Z",
     "shell.execute_reply": "2023-04-20T03:38:44.726025Z"
    },
    "papermill": {
     "duration": 0.922801,
     "end_time": "2023-04-20T03:38:44.729794",
     "exception": false,
     "start_time": "2023-04-20T03:38:43.806993",
     "status": "completed"
    },
    "tags": []
   },
   "outputs": [],
   "source": [
    "label_encoder = LabelEncoder()\n",
    "y_train_o = label_encoder.fit_transform(y_train_o)\n",
    "y_test_o = label_encoder.transform(y_test_o)\n",
    "y_train = to_categorical(y_train_o, num_classes = 4)\n",
    "y_test = to_categorical(y_test_o, num_classes = 4)\n",
    "x_train, x_validate, y_train, y_validate = train_test_split(x_train, y_train, test_size = 0.2, random_state = 999, stratify=y_train)"
   ]
  },
  {
   "cell_type": "code",
   "execution_count": 60,
   "id": "7834eb56",
   "metadata": {
    "execution": {
     "iopub.execute_input": "2023-04-20T03:38:46.344155Z",
     "iopub.status.busy": "2023-04-20T03:38:46.343193Z",
     "iopub.status.idle": "2023-04-20T03:38:46.349302Z",
     "shell.execute_reply": "2023-04-20T03:38:46.348139Z"
    },
    "papermill": {
     "duration": 0.783,
     "end_time": "2023-04-20T03:38:46.351420",
     "exception": false,
     "start_time": "2023-04-20T03:38:45.568420",
     "status": "completed"
    },
    "tags": []
   },
   "outputs": [],
   "source": [
    "x_train = x_train.reshape(x_train.shape[0], *(100, 100, 3))\n",
    "x_test = x_test.reshape(x_test.shape[0], *(100, 100, 3))\n",
    "x_validate = x_validate.reshape(x_validate.shape[0], *(100, 100, 3))"
   ]
  },
  {
   "cell_type": "code",
   "execution_count": 61,
   "id": "1acae6dd",
   "metadata": {
    "execution": {
     "iopub.execute_input": "2023-04-20T03:38:47.965659Z",
     "iopub.status.busy": "2023-04-20T03:38:47.965182Z",
     "iopub.status.idle": "2023-04-20T03:38:48.298734Z",
     "shell.execute_reply": "2023-04-20T03:38:48.297722Z"
    },
    "papermill": {
     "duration": 1.114865,
     "end_time": "2023-04-20T03:38:48.301387",
     "exception": false,
     "start_time": "2023-04-20T03:38:47.186522",
     "status": "completed"
    },
    "tags": []
   },
   "outputs": [],
   "source": [
    "vgg_model = VGG16(weights='imagenet', include_top=False, input_shape=input_shape)\n",
    "for layer in vgg_model.layers:\n",
    "    layer.trainable = False\n",
    "x = Flatten()(vgg_model.output)\n",
    "x = Dense(256, activation='relu')(x)\n",
    "\n",
    "\n",
    "x = Dense(num_classes, activation='softmax')(x)\n",
    "model_rainy = Model(inputs=vgg_model.input, outputs=x)"
   ]
  },
  {
   "cell_type": "code",
   "execution_count": 62,
   "id": "20949d86",
   "metadata": {
    "execution": {
     "iopub.execute_input": "2023-04-20T03:38:49.949040Z",
     "iopub.status.busy": "2023-04-20T03:38:49.948645Z",
     "iopub.status.idle": "2023-04-20T03:43:38.197065Z",
     "shell.execute_reply": "2023-04-20T03:43:38.196009Z"
    },
    "papermill": {
     "duration": 289.057123,
     "end_time": "2023-04-20T03:43:38.199429",
     "exception": false,
     "start_time": "2023-04-20T03:38:49.142306",
     "status": "completed"
    },
    "tags": []
   },
   "outputs": [
    {
     "name": "stdout",
     "output_type": "stream",
     "text": [
      "Epoch 1/100\n",
      "15/15 [==============================] - 4s 205ms/step - loss: 0.7164 - accuracy: 0.7428 - val_loss: 0.1457 - val_accuracy: 0.9711 - lr: 0.0010\n",
      "Epoch 2/100\n",
      "15/15 [==============================] - 2s 160ms/step - loss: 0.2340 - accuracy: 0.9146 - val_loss: 0.1489 - val_accuracy: 0.9463 - lr: 0.0010\n",
      "Epoch 3/100\n",
      "15/15 [==============================] - 3s 184ms/step - loss: 0.1824 - accuracy: 0.9335 - val_loss: 0.1770 - val_accuracy: 0.9339 - lr: 0.0010\n",
      "Epoch 4/100\n",
      "15/15 [==============================] - 3s 174ms/step - loss: 0.1466 - accuracy: 0.9424 - val_loss: 0.1016 - val_accuracy: 0.9752 - lr: 0.0010\n",
      "Epoch 5/100\n",
      "15/15 [==============================] - 2s 161ms/step - loss: 0.1152 - accuracy: 0.9623 - val_loss: 0.0922 - val_accuracy: 0.9752 - lr: 0.0010\n",
      "Epoch 6/100\n",
      "15/15 [==============================] - 2s 153ms/step - loss: 0.1076 - accuracy: 0.9601 - val_loss: 0.0789 - val_accuracy: 0.9793 - lr: 0.0010\n",
      "Epoch 7/100\n",
      "15/15 [==============================] - 2s 166ms/step - loss: 0.0838 - accuracy: 0.9656 - val_loss: 0.0997 - val_accuracy: 0.9587 - lr: 0.0010\n",
      "Epoch 8/100\n",
      "15/15 [==============================] - 3s 174ms/step - loss: 0.0679 - accuracy: 0.9756 - val_loss: 0.1119 - val_accuracy: 0.9463 - lr: 0.0010\n",
      "Epoch 9/100\n",
      "15/15 [==============================] - 2s 163ms/step - loss: 0.0603 - accuracy: 0.9812 - val_loss: 0.1153 - val_accuracy: 0.9628 - lr: 0.0010\n",
      "Epoch 10/100\n",
      "15/15 [==============================] - 3s 196ms/step - loss: 0.0843 - accuracy: 0.9645 - val_loss: 0.0767 - val_accuracy: 0.9669 - lr: 0.0010\n",
      "Epoch 11/100\n",
      "15/15 [==============================] - 2s 163ms/step - loss: 0.0616 - accuracy: 0.9712 - val_loss: 0.1558 - val_accuracy: 0.9421 - lr: 0.0010\n",
      "Epoch 12/100\n",
      "15/15 [==============================] - 2s 156ms/step - loss: 0.0890 - accuracy: 0.9656 - val_loss: 0.1609 - val_accuracy: 0.9380 - lr: 0.0010\n",
      "Epoch 13/100\n",
      "15/15 [==============================] - 2s 161ms/step - loss: 0.0827 - accuracy: 0.9734 - val_loss: 0.1356 - val_accuracy: 0.9421 - lr: 0.0010\n",
      "Epoch 14/100\n",
      "15/15 [==============================] - 3s 196ms/step - loss: 0.0876 - accuracy: 0.9701 - val_loss: 0.1482 - val_accuracy: 0.9421 - lr: 0.0010\n",
      "Epoch 15/100\n",
      "15/15 [==============================] - 3s 166ms/step - loss: 0.0411 - accuracy: 0.9823 - val_loss: 0.1255 - val_accuracy: 0.9587 - lr: 0.0010\n",
      "Epoch 16/100\n",
      "15/15 [==============================] - 3s 167ms/step - loss: 0.0629 - accuracy: 0.9800 - val_loss: 0.1345 - val_accuracy: 0.9504 - lr: 0.0010\n",
      "Epoch 17/100\n",
      "15/15 [==============================] - 2s 151ms/step - loss: 0.0665 - accuracy: 0.9789 - val_loss: 0.1131 - val_accuracy: 0.9545 - lr: 0.0010\n",
      "Epoch 18/100\n",
      "15/15 [==============================] - 2s 166ms/step - loss: 0.0506 - accuracy: 0.9789 - val_loss: 0.0914 - val_accuracy: 0.9628 - lr: 0.0010\n",
      "Epoch 19/100\n",
      "15/15 [==============================] - 2s 165ms/step - loss: 0.0695 - accuracy: 0.9756 - val_loss: 0.1024 - val_accuracy: 0.9669 - lr: 0.0010\n",
      "Epoch 20/100\n",
      "15/15 [==============================] - 3s 171ms/step - loss: 0.0622 - accuracy: 0.9767 - val_loss: 0.1358 - val_accuracy: 0.9587 - lr: 0.0010\n",
      "Epoch 21/100\n",
      "15/15 [==============================] - 3s 185ms/step - loss: 0.0535 - accuracy: 0.9789 - val_loss: 0.1180 - val_accuracy: 0.9628 - lr: 0.0010\n",
      "Epoch 22/100\n",
      "15/15 [==============================] - 2s 158ms/step - loss: 0.0321 - accuracy: 0.9906 - val_loss: 0.1133 - val_accuracy: 0.9711 - lr: 0.0010\n",
      "Epoch 23/100\n",
      "15/15 [==============================] - 3s 170ms/step - loss: 0.0344 - accuracy: 0.9878 - val_loss: 0.0837 - val_accuracy: 0.9793 - lr: 0.0010\n",
      "Epoch 24/100\n",
      "15/15 [==============================] - 3s 166ms/step - loss: 0.0327 - accuracy: 0.9900 - val_loss: 0.0862 - val_accuracy: 0.9752 - lr: 0.0010\n",
      "Epoch 25/100\n",
      "15/15 [==============================] - 2s 153ms/step - loss: 0.0379 - accuracy: 0.9889 - val_loss: 0.1149 - val_accuracy: 0.9669 - lr: 0.0010\n",
      "Epoch 26/100\n",
      "15/15 [==============================] - 2s 161ms/step - loss: 0.0368 - accuracy: 0.9889 - val_loss: 0.1019 - val_accuracy: 0.9628 - lr: 0.0010\n",
      "Epoch 27/100\n",
      "15/15 [==============================] - 3s 166ms/step - loss: 0.0374 - accuracy: 0.9845 - val_loss: 0.1127 - val_accuracy: 0.9628 - lr: 0.0010\n",
      "Epoch 28/100\n",
      "15/15 [==============================] - 2s 164ms/step - loss: 0.0414 - accuracy: 0.9867 - val_loss: 0.1033 - val_accuracy: 0.9669 - lr: 0.0010\n",
      "Epoch 29/100\n",
      "15/15 [==============================] - 2s 165ms/step - loss: 0.0333 - accuracy: 0.9867 - val_loss: 0.1103 - val_accuracy: 0.9587 - lr: 0.0010\n",
      "Epoch 30/100\n",
      "15/15 [==============================] - 2s 163ms/step - loss: 0.0371 - accuracy: 0.9856 - val_loss: 0.1297 - val_accuracy: 0.9587 - lr: 0.0010\n",
      "Epoch 31/100\n",
      "15/15 [==============================] - 3s 192ms/step - loss: 0.0417 - accuracy: 0.9845 - val_loss: 0.1213 - val_accuracy: 0.9504 - lr: 0.0010\n",
      "Epoch 32/100\n",
      "15/15 [==============================] - 2s 152ms/step - loss: 0.0212 - accuracy: 0.9933 - val_loss: 0.1286 - val_accuracy: 0.9669 - lr: 0.0010\n",
      "Epoch 33/100\n",
      "15/15 [==============================] - 2s 162ms/step - loss: 0.0271 - accuracy: 0.9856 - val_loss: 0.1235 - val_accuracy: 0.9628 - lr: 0.0010\n",
      "Epoch 34/100\n",
      "15/15 [==============================] - 3s 205ms/step - loss: 0.0280 - accuracy: 0.9900 - val_loss: 0.1140 - val_accuracy: 0.9711 - lr: 0.0010\n",
      "Epoch 35/100\n",
      "15/15 [==============================] - 2s 162ms/step - loss: 0.0464 - accuracy: 0.9823 - val_loss: 0.1093 - val_accuracy: 0.9711 - lr: 0.0010\n",
      "Epoch 36/100\n",
      "15/15 [==============================] - 2s 163ms/step - loss: 0.0502 - accuracy: 0.9834 - val_loss: 0.1182 - val_accuracy: 0.9669 - lr: 0.0010\n",
      "Epoch 37/100\n",
      "15/15 [==============================] - 2s 151ms/step - loss: 0.0313 - accuracy: 0.9900 - val_loss: 0.1163 - val_accuracy: 0.9669 - lr: 0.0010\n",
      "Epoch 38/100\n",
      "15/15 [==============================] - 3s 175ms/step - loss: 0.0323 - accuracy: 0.9911 - val_loss: 0.1002 - val_accuracy: 0.9793 - lr: 0.0010\n",
      "Epoch 39/100\n",
      "15/15 [==============================] - 2s 171ms/step - loss: 0.0916 - accuracy: 0.9690 - val_loss: 0.1551 - val_accuracy: 0.9669 - lr: 0.0010\n",
      "Epoch 40/100\n",
      "15/15 [==============================] - 2s 162ms/step - loss: 0.0504 - accuracy: 0.9812 - val_loss: 0.1112 - val_accuracy: 0.9628 - lr: 0.0010\n",
      "Epoch 41/100\n",
      "15/15 [==============================] - 2s 162ms/step - loss: 0.0569 - accuracy: 0.9756 - val_loss: 0.0828 - val_accuracy: 0.9628 - lr: 0.0010\n",
      "Epoch 42/100\n",
      "15/15 [==============================] - 3s 195ms/step - loss: 0.0527 - accuracy: 0.9823 - val_loss: 0.0780 - val_accuracy: 0.9835 - lr: 0.0010\n",
      "Epoch 43/100\n",
      "15/15 [==============================] - 2s 163ms/step - loss: 0.0260 - accuracy: 0.9889 - val_loss: 0.0897 - val_accuracy: 0.9711 - lr: 0.0010\n",
      "Epoch 44/100\n",
      "15/15 [==============================] - 2s 164ms/step - loss: 0.0229 - accuracy: 0.9922 - val_loss: 0.1249 - val_accuracy: 0.9669 - lr: 0.0010\n",
      "Epoch 45/100\n",
      "15/15 [==============================] - 2s 151ms/step - loss: 0.0233 - accuracy: 0.9922 - val_loss: 0.1180 - val_accuracy: 0.9669 - lr: 0.0010\n",
      "Epoch 46/100\n",
      "15/15 [==============================] - 3s 196ms/step - loss: 0.0282 - accuracy: 0.9889 - val_loss: 0.1123 - val_accuracy: 0.9711 - lr: 0.0010\n",
      "Epoch 47/100\n",
      "15/15 [==============================] - 2s 161ms/step - loss: 0.0416 - accuracy: 0.9823 - val_loss: 0.1236 - val_accuracy: 0.9669 - lr: 0.0010\n",
      "Epoch 48/100\n",
      "15/15 [==============================] - 2s 159ms/step - loss: 0.0272 - accuracy: 0.9911 - val_loss: 0.1260 - val_accuracy: 0.9628 - lr: 0.0010\n",
      "Epoch 49/100\n",
      "15/15 [==============================] - 2s 161ms/step - loss: 0.0229 - accuracy: 0.9867 - val_loss: 0.1407 - val_accuracy: 0.9463 - lr: 0.0010\n",
      "Epoch 50/100\n",
      "15/15 [==============================] - 2s 158ms/step - loss: 0.0186 - accuracy: 0.9922 - val_loss: 0.1140 - val_accuracy: 0.9669 - lr: 0.0010\n",
      "Epoch 51/100\n",
      "15/15 [==============================] - 2s 162ms/step - loss: 0.0220 - accuracy: 0.9911 - val_loss: 0.0978 - val_accuracy: 0.9628 - lr: 0.0010\n",
      "Epoch 52/100\n",
      "15/15 [==============================] - 2s 163ms/step - loss: 0.0281 - accuracy: 0.9922 - val_loss: 0.1502 - val_accuracy: 0.9628 - lr: 0.0010\n",
      "Epoch 53/100\n",
      "15/15 [==============================] - 3s 188ms/step - loss: 0.0388 - accuracy: 0.9845 - val_loss: 0.1191 - val_accuracy: 0.9628 - lr: 0.0010\n",
      "Epoch 54/100\n",
      "15/15 [==============================] - 3s 169ms/step - loss: 0.0315 - accuracy: 0.9911 - val_loss: 0.1480 - val_accuracy: 0.9587 - lr: 0.0010\n",
      "Epoch 55/100\n",
      "15/15 [==============================] - 2s 159ms/step - loss: 0.0480 - accuracy: 0.9875 - val_loss: 0.1549 - val_accuracy: 0.9504 - lr: 0.0010\n",
      "Epoch 56/100\n",
      "15/15 [==============================] - 2s 162ms/step - loss: 0.0305 - accuracy: 0.9911 - val_loss: 0.1265 - val_accuracy: 0.9669 - lr: 0.0010\n",
      "Epoch 57/100\n",
      "15/15 [==============================] - 2s 161ms/step - loss: 0.0478 - accuracy: 0.9823 - val_loss: 0.1088 - val_accuracy: 0.9711 - lr: 0.0010\n",
      "Epoch 58/100\n",
      "15/15 [==============================] - 3s 185ms/step - loss: 0.0273 - accuracy: 0.9911 - val_loss: 0.1016 - val_accuracy: 0.9669 - lr: 0.0010\n",
      "Epoch 59/100\n",
      "15/15 [==============================] - 2s 153ms/step - loss: 0.0251 - accuracy: 0.9900 - val_loss: 0.1237 - val_accuracy: 0.9587 - lr: 0.0010\n",
      "Epoch 60/100\n",
      "15/15 [==============================] - 2s 152ms/step - loss: 0.0299 - accuracy: 0.9911 - val_loss: 0.1041 - val_accuracy: 0.9669 - lr: 0.0010\n",
      "Epoch 61/100\n",
      "15/15 [==============================] - 2s 161ms/step - loss: 0.0392 - accuracy: 0.9834 - val_loss: 0.1037 - val_accuracy: 0.9711 - lr: 0.0010\n",
      "Epoch 62/100\n",
      "15/15 [==============================] - 3s 167ms/step - loss: 0.0291 - accuracy: 0.9911 - val_loss: 0.1081 - val_accuracy: 0.9628 - lr: 0.0010\n",
      "Epoch 63/100\n",
      "15/15 [==============================] - 2s 161ms/step - loss: 0.0233 - accuracy: 0.9911 - val_loss: 0.1507 - val_accuracy: 0.9545 - lr: 0.0010\n",
      "Epoch 64/100\n",
      "15/15 [==============================] - 2s 161ms/step - loss: 0.0234 - accuracy: 0.9911 - val_loss: 0.1200 - val_accuracy: 0.9545 - lr: 0.0010\n",
      "Epoch 65/100\n",
      "15/15 [==============================] - 3s 192ms/step - loss: 0.0197 - accuracy: 0.9933 - val_loss: 0.1280 - val_accuracy: 0.9545 - lr: 0.0010\n",
      "Epoch 66/100\n",
      "15/15 [==============================] - 2s 164ms/step - loss: 0.0235 - accuracy: 0.9900 - val_loss: 0.1499 - val_accuracy: 0.9628 - lr: 0.0010\n",
      "Epoch 67/100\n",
      "15/15 [==============================] - 2s 159ms/step - loss: 0.0524 - accuracy: 0.9802 - val_loss: 0.1460 - val_accuracy: 0.9628 - lr: 0.0010\n",
      "Epoch 68/100\n",
      "15/15 [==============================] - 3s 200ms/step - loss: 0.0203 - accuracy: 0.9933 - val_loss: 0.1156 - val_accuracy: 0.9752 - lr: 0.0010\n",
      "Epoch 69/100\n",
      "15/15 [==============================] - 2s 161ms/step - loss: 0.0175 - accuracy: 0.9956 - val_loss: 0.1385 - val_accuracy: 0.9587 - lr: 0.0010\n",
      "Epoch 70/100\n",
      "15/15 [==============================] - 2s 167ms/step - loss: 0.0163 - accuracy: 0.9933 - val_loss: 0.1401 - val_accuracy: 0.9545 - lr: 0.0010\n",
      "Epoch 71/100\n",
      "15/15 [==============================] - 2s 161ms/step - loss: 0.0286 - accuracy: 0.9889 - val_loss: 0.1280 - val_accuracy: 0.9587 - lr: 0.0010\n",
      "Epoch 72/100\n",
      "15/15 [==============================] - 2s 161ms/step - loss: 0.0234 - accuracy: 0.9922 - val_loss: 0.0937 - val_accuracy: 0.9669 - lr: 0.0010\n",
      "Epoch 73/100\n",
      "15/15 [==============================] - 2s 162ms/step - loss: 0.0193 - accuracy: 0.9933 - val_loss: 0.1226 - val_accuracy: 0.9669 - lr: 0.0010\n",
      "Epoch 74/100\n",
      "15/15 [==============================] - 3s 169ms/step - loss: 0.0225 - accuracy: 0.9911 - val_loss: 0.1473 - val_accuracy: 0.9545 - lr: 0.0010\n",
      "Epoch 75/100\n",
      "15/15 [==============================] - 2s 160ms/step - loss: 0.0121 - accuracy: 0.9978 - val_loss: 0.0998 - val_accuracy: 0.9628 - lr: 0.0010\n",
      "Epoch 76/100\n",
      "15/15 [==============================] - 3s 195ms/step - loss: 0.0195 - accuracy: 0.9933 - val_loss: 0.1382 - val_accuracy: 0.9587 - lr: 0.0010\n",
      "Epoch 77/100\n",
      "15/15 [==============================] - 2s 162ms/step - loss: 0.0228 - accuracy: 0.9945 - val_loss: 0.1130 - val_accuracy: 0.9669 - lr: 0.0010\n",
      "Epoch 78/100\n",
      "15/15 [==============================] - 3s 166ms/step - loss: 0.0164 - accuracy: 0.9933 - val_loss: 0.1363 - val_accuracy: 0.9545 - lr: 0.0010\n",
      "Epoch 79/100\n",
      "15/15 [==============================] - 2s 161ms/step - loss: 0.0357 - accuracy: 0.9889 - val_loss: 0.1542 - val_accuracy: 0.9545 - lr: 0.0010\n",
      "Epoch 80/100\n",
      "15/15 [==============================] - 3s 188ms/step - loss: 0.0408 - accuracy: 0.9889 - val_loss: 0.1503 - val_accuracy: 0.9587 - lr: 0.0010\n",
      "Epoch 81/100\n",
      "15/15 [==============================] - 2s 165ms/step - loss: 0.0159 - accuracy: 0.9945 - val_loss: 0.1428 - val_accuracy: 0.9504 - lr: 0.0010\n",
      "Epoch 82/100\n",
      "15/15 [==============================] - 3s 168ms/step - loss: 0.0182 - accuracy: 0.9945 - val_loss: 0.0991 - val_accuracy: 0.9669 - lr: 0.0010\n",
      "Epoch 83/100\n",
      "15/15 [==============================] - 2s 161ms/step - loss: 0.0200 - accuracy: 0.9927 - val_loss: 0.1246 - val_accuracy: 0.9587 - lr: 0.0010\n",
      "Epoch 84/100\n",
      "15/15 [==============================] - 2s 163ms/step - loss: 0.0191 - accuracy: 0.9933 - val_loss: 0.1345 - val_accuracy: 0.9504 - lr: 0.0010\n",
      "Epoch 85/100\n",
      "15/15 [==============================] - 2s 163ms/step - loss: 0.0231 - accuracy: 0.9911 - val_loss: 0.1121 - val_accuracy: 0.9587 - lr: 0.0010\n",
      "Epoch 86/100\n",
      "15/15 [==============================] - 3s 167ms/step - loss: 0.0300 - accuracy: 0.9900 - val_loss: 0.1333 - val_accuracy: 0.9504 - lr: 0.0010\n",
      "Epoch 87/100\n",
      "15/15 [==============================] - 2s 162ms/step - loss: 0.0138 - accuracy: 0.9945 - val_loss: 0.1089 - val_accuracy: 0.9752 - lr: 0.0010\n",
      "Epoch 88/100\n",
      "15/15 [==============================] - 3s 190ms/step - loss: 0.0205 - accuracy: 0.9922 - val_loss: 0.1139 - val_accuracy: 0.9504 - lr: 0.0010\n",
      "Epoch 89/100\n",
      "15/15 [==============================] - 2s 162ms/step - loss: 0.0148 - accuracy: 0.9933 - val_loss: 0.1175 - val_accuracy: 0.9628 - lr: 0.0010\n",
      "Epoch 90/100\n",
      "15/15 [==============================] - 3s 167ms/step - loss: 0.0239 - accuracy: 0.9922 - val_loss: 0.1219 - val_accuracy: 0.9628 - lr: 0.0010\n",
      "Epoch 91/100\n",
      "15/15 [==============================] - 3s 184ms/step - loss: 0.0136 - accuracy: 0.9933 - val_loss: 0.0982 - val_accuracy: 0.9669 - lr: 0.0010\n",
      "Epoch 92/100\n",
      "15/15 [==============================] - 2s 162ms/step - loss: 0.0092 - accuracy: 0.9978 - val_loss: 0.0991 - val_accuracy: 0.9752 - lr: 0.0010\n",
      "Epoch 93/100\n",
      "15/15 [==============================] - 2s 161ms/step - loss: 0.0121 - accuracy: 0.9933 - val_loss: 0.1050 - val_accuracy: 0.9669 - lr: 0.0010\n",
      "Epoch 94/100\n",
      "15/15 [==============================] - 3s 169ms/step - loss: 0.0248 - accuracy: 0.9922 - val_loss: 0.1043 - val_accuracy: 0.9711 - lr: 0.0010\n",
      "Epoch 95/100\n",
      "15/15 [==============================] - 2s 154ms/step - loss: 0.0224 - accuracy: 0.9911 - val_loss: 0.1401 - val_accuracy: 0.9669 - lr: 0.0010\n",
      "Epoch 96/100\n",
      "15/15 [==============================] - 2s 161ms/step - loss: 0.0178 - accuracy: 0.9945 - val_loss: 0.0970 - val_accuracy: 0.9711 - lr: 0.0010\n",
      "Epoch 97/100\n",
      "15/15 [==============================] - 3s 166ms/step - loss: 0.0185 - accuracy: 0.9900 - val_loss: 0.1052 - val_accuracy: 0.9711 - lr: 0.0010\n",
      "Epoch 98/100\n",
      "15/15 [==============================] - 3s 196ms/step - loss: 0.0171 - accuracy: 0.9911 - val_loss: 0.0763 - val_accuracy: 0.9876 - lr: 0.0010\n",
      "Epoch 99/100\n",
      "15/15 [==============================] - 2s 161ms/step - loss: 0.0218 - accuracy: 0.9922 - val_loss: 0.0822 - val_accuracy: 0.9793 - lr: 0.0010\n",
      "Epoch 100/100\n",
      "15/15 [==============================] - 2s 160ms/step - loss: 0.0076 - accuracy: 0.9967 - val_loss: 0.0872 - val_accuracy: 0.9752 - lr: 0.0010\n"
     ]
    }
   ],
   "source": [
    "optimizer = Adam(lr=0.01, beta_1=0.9, beta_2=0.999, epsilon=1e-8, amsgrad=False)\n",
    "learning_rate_reduction = ReduceLROnPlateau(monitor='val_acc', patience=4, verbose=1, factor=0.5, min_lr=0.00001)\n",
    "\n",
    "datagen = ImageDataGenerator(\n",
    "        featurewise_center=False, \n",
    "        samplewise_center=False, \n",
    "        featurewise_std_normalization=False,\n",
    "        samplewise_std_normalization=False,\n",
    "        zca_whitening=False,\n",
    "        rotation_range=90,\n",
    "        zoom_range = 0.1, \n",
    "        width_shift_range=0.1,\n",
    "        height_shift_range=0.1,\n",
    "        horizontal_flip=True,\n",
    "        vertical_flip=True,\n",
    "        shear_range = 10) \n",
    "datagen.fit(x_train)\n",
    "\n",
    "model_rainy.compile(optimizer = optimizer , loss = \"categorical_crossentropy\", metrics=[\"accuracy\"])\n",
    "history = model_rainy.fit(datagen.flow(x_train,y_train, batch_size=64),\n",
    "                              epochs = 100, validation_data = (x_validate,y_validate),\n",
    "                              verbose = 1, steps_per_epoch=x_train.shape[0] // 64\n",
    "                              , callbacks=[learning_rate_reduction])"
   ]
  },
  {
   "cell_type": "code",
   "execution_count": 63,
   "id": "dbe5b5ae",
   "metadata": {
    "execution": {
     "iopub.execute_input": "2023-04-20T03:43:39.978437Z",
     "iopub.status.busy": "2023-04-20T03:43:39.977201Z",
     "iopub.status.idle": "2023-04-20T03:43:41.840468Z",
     "shell.execute_reply": "2023-04-20T03:43:41.838791Z"
    },
    "papermill": {
     "duration": 2.725334,
     "end_time": "2023-04-20T03:43:41.842593",
     "exception": false,
     "start_time": "2023-04-20T03:43:39.117259",
     "status": "completed"
    },
    "tags": []
   },
   "outputs": [
    {
     "name": "stdout",
     "output_type": "stream",
     "text": [
      "Training: accuracy = 0.996894\n",
      "Validation: accuracy = 0.975207\n",
      "Test: accuracy = 0.959459\n"
     ]
    }
   ],
   "source": [
    "Accuracies(model_rainy, x_train, x_validate, x_test, y_train, y_validate ,y_test)"
   ]
  },
  {
   "cell_type": "code",
   "execution_count": 64,
   "id": "f42985d6",
   "metadata": {
    "execution": {
     "iopub.execute_input": "2023-04-20T03:43:44.066918Z",
     "iopub.status.busy": "2023-04-20T03:43:44.066462Z",
     "iopub.status.idle": "2023-04-20T03:43:45.001004Z",
     "shell.execute_reply": "2023-04-20T03:43:44.999811Z"
    },
    "papermill": {
     "duration": 2.248405,
     "end_time": "2023-04-20T03:43:45.003225",
     "exception": false,
     "start_time": "2023-04-20T03:43:42.754820",
     "status": "completed"
    },
    "tags": []
   },
   "outputs": [
    {
     "name": "stdout",
     "output_type": "stream",
     "text": [
      "17/17 [==============================] - 0s 16ms/step\n"
     ]
    },
    {
     "data": {
      "image/png": "[encoded data removed]",
      "text/plain": [
       "<Figure size 1200x600 with 2 Axes>"
      ]
     },
     "metadata": {},
     "output_type": "display_data"
    }
   ],
   "source": [
    "ConfusionMatrix(model_rainy, x_test, y_test, label_encoder)"
   ]
  },
  {
   "cell_type": "code",
   "execution_count": 65,
   "id": "38606538",
   "metadata": {
    "execution": {
     "iopub.execute_input": "2023-04-20T03:43:46.771011Z",
     "iopub.status.busy": "2023-04-20T03:43:46.770609Z",
     "iopub.status.idle": "2023-04-20T03:43:47.248868Z",
     "shell.execute_reply": "2023-04-20T03:43:47.247885Z"
    },
    "papermill": {
     "duration": 1.340456,
     "end_time": "2023-04-20T03:43:47.251495",
     "exception": false,
     "start_time": "2023-04-20T03:43:45.911039",
     "status": "completed"
    },
    "tags": []
   },
   "outputs": [
    {
     "name": "stdout",
     "output_type": "stream",
     "text": [
      "17/17 [==============================] - 0s 16ms/step\n",
      "              precision    recall  f1-score   support\n",
      "\n",
      "           0       0.95      0.96      0.96       170\n",
      "           1       0.97      1.00      0.99       104\n",
      "           2       0.96      0.94      0.95       168\n",
      "           3       0.95      0.95      0.95        76\n",
      "\n",
      "    accuracy                           0.96       518\n",
      "   macro avg       0.96      0.96      0.96       518\n",
      "weighted avg       0.96      0.96      0.96       518\n",
      "\n"
     ]
    }
   ],
   "source": [
    "ClassificationReport(model_rainy, x_test, y_test)"
   ]
  },
  {
   "cell_type": "code",
   "execution_count": 66,
   "id": "451cab61",
   "metadata": {
    "execution": {
     "iopub.execute_input": "2023-04-20T03:43:49.090003Z",
     "iopub.status.busy": "2023-04-20T03:43:49.089615Z",
     "iopub.status.idle": "2023-04-20T03:43:49.216175Z",
     "shell.execute_reply": "2023-04-20T03:43:49.215150Z"
    },
    "papermill": {
     "duration": 1.054173,
     "end_time": "2023-04-20T03:43:49.218749",
     "exception": false,
     "start_time": "2023-04-20T03:43:48.164576",
     "status": "completed"
    },
    "tags": []
   },
   "outputs": [],
   "source": [
    "model_rainy.save('model_rainy.h5')"
   ]
  },
  {
   "cell_type": "markdown",
   "id": "8ae6ac40",
   "metadata": {
    "papermill": {
     "duration": 0.917867,
     "end_time": "2023-04-20T03:43:50.992966",
     "exception": false,
     "start_time": "2023-04-20T03:43:50.075099",
     "status": "completed"
    },
    "tags": []
   },
   "source": [
    "# Prediction"
   ]
  },
  {
   "cell_type": "code",
   "execution_count": 67,
   "id": "35169eb6",
   "metadata": {
    "execution": {
     "iopub.execute_input": "2023-04-20T03:43:52.880579Z",
     "iopub.status.busy": "2023-04-20T03:43:52.879866Z",
     "iopub.status.idle": "2023-04-20T03:43:53.425178Z",
     "shell.execute_reply": "2023-04-20T03:43:53.424118Z"
    },
    "papermill": {
     "duration": 1.474089,
     "end_time": "2023-04-20T03:43:53.428506",
     "exception": false,
     "start_time": "2023-04-20T03:43:51.954417",
     "status": "completed"
    },
    "tags": []
   },
   "outputs": [
    {
     "name": "stdout",
     "output_type": "stream",
     "text": [
      "1/1 [==============================] - 0s 21ms/step\n",
      "[[5.540338e-06 5.870307e-03 9.941241e-01]]\n",
      "99.41241145133972\n"
     ]
    },
    {
     "data": {
      "image/png": "[encoded data removed]",
      "text/plain": [
       "<Figure size 640x480 with 1 Axes>"
      ]
     },
     "metadata": {},
     "output_type": "display_data"
    }
   ],
   "source": [
    "from PIL import Image\n",
    "import matplotlib.pyplot as plt\n",
    "import cv2\n",
    "from IPython.display import Image\n",
    "from PIL import Image, ImageFilter\n",
    "\n",
    "img = Image.open('/kaggle/input/weather-dataset/dataset/rainbow/0610.jpg')\n",
    "plt.imshow(img)\n",
    "img = img.resize((100, 100), resample=Image.LANCZOS).convert('RGB')\n",
    "img_arr = np.asarray(img).reshape(1, 100, 100, 3)\n",
    "img_arr = (img_arr - x_train_mean) / x_train_std\n",
    "\n",
    "result = model.predict(img_arr)\n",
    "\n",
    "print(result)\n",
    "max_prob = np.argmax(result[0])\n",
    "#print(categories[max_prob])\n",
    "print(max(result[0])*100)"
   ]
  }
 ],
 "metadata": {
  "kernelspec": {
   "display_name": "Python 3",
   "language": "python",
   "name": "python3"
  },
  "language_info": {
   "codemirror_mode": {
    "name": "ipython",
    "version": 3
   },
   "file_extension": ".py",
   "mimetype": "text/x-python",
   "name": "python",
   "nbconvert_exporter": "python",
   "pygments_lexer": "ipython3",
   "version": "3.7.12"
  },
  "papermill": {
   "default_parameters": {},
   "duration": 3271.8895,
   "end_time": "2023-04-20T03:43:57.692191",
   "environment_variables": {},
   "exception": null,
   "input_path": "__notebook__.ipynb",
   "output_path": "__notebook__.ipynb",
   "parameters": {},
   "start_time": "2023-04-20T02:49:25.802691",
   "version": "2.4.0"
  }
 },
 "nbformat": 4,
 "nbformat_minor": 5
}
